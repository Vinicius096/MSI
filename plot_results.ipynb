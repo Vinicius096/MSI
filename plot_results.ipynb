{
 "cells": [
  {
   "cell_type": "code",
   "execution_count": 7,
   "metadata": {},
   "outputs": [],
   "source": [
    "from matplotlib import pyplot as plt\n",
    "import pandas as pd\n",
    "import numpy as np\n",
    "import math\n"
   ]
  },
  {
   "cell_type": "code",
   "execution_count": 8,
   "metadata": {},
   "outputs": [],
   "source": [
    "javascript = pd.read_csv(\"results/javascript.csv\")\n",
    "java = pd.read_csv(\"results/java.csv\")\n",
    "cplusplus = pd.read_csv(\"results/cplusplus.csv\")\n",
    "python = pd.read_csv(\"results/python.csv\")\n",
    "php = pd.read_csv(\"results/php.csv\")\n",
    "results = pd.read_csv(\"results/results.csv\")"
   ]
  },
  {
   "cell_type": "code",
   "execution_count": null,
   "metadata": {},
   "outputs": [],
   "source": [
    "names = ['Javascript', 'Java', 'Cplusplus', 'Python', 'PHP']\n",
    "data1 = [javascript['Commits'], java['Commits'], cplusplus['Commits'], python['Commits'], php['Commits']]\n",
    "\n",
    "fig1 = plt.figure(1, figsize=(9,7))\n",
    "plt.title('Commits')\n",
    "ax1 = fig1.add_subplot(111)\n",
    "ax1.set_xticklabels(names)\n",
    "box1 = ax1.boxplot(data1)\n",
    "fig1.savefig('data/boxplot/Commits.png', bbox_inches='tight')\n"
   ]
  },
  {
   "cell_type": "code",
   "execution_count": null,
   "metadata": {},
   "outputs": [],
   "source": [
    "names = ['Javascript', 'Java', 'Cplusplus', 'Python', 'PHP']\n",
    "data2 = [javascript['Files'], java['Files'], cplusplus['Files'], python['Files'], php['Files']]\n",
    "\n",
    "fig2 = plt.figure(1, figsize=(9,7))\n",
    "plt.title('Files')\n",
    "ax2 = fig2.add_subplot(111)\n",
    "ax2.set_xticklabels(names)\n",
    "box2 = ax2.boxplot(data2)\n",
    "fig2.savefig('data/boxplot/Files.png', bbox_inches='tight')\n"
   ]
  },
  {
   "cell_type": "code",
   "execution_count": null,
   "metadata": {},
   "outputs": [],
   "source": [
    "names = ['Javascript', 'Java', 'Cplusplus', 'Python', 'PHP']\n",
    "data3 = [javascript['LOC'], java['LOC'], cplusplus['LOC'], python['LOC'], php['LOC']]\n",
    "\n",
    "fig3 = plt.figure(1, figsize=(9,7))\n",
    "plt.title('Lines of Code')\n",
    "ax3 = fig3.add_subplot(111)\n",
    "ax3.set_xticklabels(names)\n",
    "box3 = ax3.boxplot(data3)\n",
    "fig3.savefig('data/boxplot/LOC.png', bbox_inches='tight')\n"
   ]
  },
  {
   "cell_type": "code",
   "execution_count": null,
   "metadata": {},
   "outputs": [],
   "source": [
    "names = ['Javascript', 'Java', 'Cplusplus', 'Python', 'PHP']\n",
    "data4 = [javascript['TF'], java['TF'], cplusplus['TF'], python['TF'], php['TF']]\n",
    "\n",
    "fig4 = plt.figure(1, figsize=(9,7))\n",
    "plt.title('Truck Factor')\n",
    "ax4 = fig4.add_subplot(111)\n",
    "ax4.set_xticklabels(names)\n",
    "box4 = ax4.boxplot(data4)\n",
    "fig4.savefig('data/boxplot/TF.png', bbox_inches='tight')\n"
   ]
  },
  {
   "cell_type": "code",
   "execution_count": null,
   "metadata": {},
   "outputs": [],
   "source": [
    "names = ['Javascript', 'Java', 'Cplusplus', 'Python', 'PHP']\n",
    "data5 = [javascript['Devs'], java['Devs'], cplusplus['Devs'], python['Devs'], php['Devs']]\n",
    "\n",
    "fig5 = plt.figure(1, figsize=(9,7))\n",
    "plt.title('Contributors')\n",
    "ax5 = fig5.add_subplot(111)\n",
    "ax5.set_xticklabels(names)\n",
    "box5 = ax5.boxplot(data5)\n",
    "fig5.savefig('data/boxplot/Devs.png', bbox_inches='tight')\n"
   ]
  },
  {
   "cell_type": "code",
   "execution_count": null,
   "metadata": {},
   "outputs": [],
   "source": [
    "javascript_commits = javascript['Commits']\n",
    "javascript_TF = javascript['TF']\n",
    "\n",
    "fig6 = plt.figure(1, figsize=(8,8))\n",
    "plt.title('Javascript')\n",
    "plt.xlabel('Commits')\n",
    "plt.ylabel('Truck Factor')\n",
    "plt.scatter(javascript_commits, javascript_TF)\n",
    "fig6.savefig('data/scatter/javascript_Commits_TF.png', bbox_inches='tight')"
   ]
  },
  {
   "cell_type": "code",
   "execution_count": null,
   "metadata": {},
   "outputs": [],
   "source": [
    "javascript_files = javascript['Files']\n",
    "javascript_TF = javascript['TF']\n",
    "\n",
    "fig7 = plt.figure(1, figsize=(8,8))\n",
    "plt.title('Javascript')\n",
    "plt.xlabel('Files')\n",
    "plt.ylabel('Truck Factor')\n",
    "plt.scatter(javascript_files, javascript_TF)\n",
    "fig7.savefig('data/scatter/javascript_Files_TF.png', bbox_inches='tight')"
   ]
  },
  {
   "cell_type": "code",
   "execution_count": null,
   "metadata": {},
   "outputs": [],
   "source": [
    "javascript_LOC = javascript['LOC']\n",
    "javascript_TF = javascript['TF']\n",
    "\n",
    "fig8 = plt.figure(1, figsize=(8,8))\n",
    "plt.title('Javascript')\n",
    "plt.xlabel('Lines of Code')\n",
    "plt.ylabel('Truck Factor')\n",
    "plt.scatter(javascript_LOC, javascript_TF)\n",
    "fig8.savefig('data/scatter/javascript_LOC_TF.png', bbox_inches='tight')"
   ]
  },
  {
   "cell_type": "code",
   "execution_count": null,
   "metadata": {},
   "outputs": [],
   "source": [
    "javascript_devs = javascript['Devs']\n",
    "javascript_TF = javascript['TF']\n",
    "\n",
    "fig9 = plt.figure(1, figsize=(8,8))\n",
    "plt.title('Javascript')\n",
    "plt.xlabel('Contributors')\n",
    "plt.ylabel('Truck Factor')\n",
    "plt.scatter(javascript_devs, javascript_TF)\n",
    "fig9.savefig('data/scatter/javascript_Devs_TF.png', bbox_inches='tight')"
   ]
  },
  {
   "cell_type": "code",
   "execution_count": null,
   "metadata": {},
   "outputs": [],
   "source": [
    "java_commits = java['Commits']\n",
    "java_TF = java['TF']\n",
    "\n",
    "fig10 = plt.figure(1, figsize=(8,8))\n",
    "plt.title('Java')\n",
    "plt.xlabel('Commits')\n",
    "plt.ylabel('Truck Factor')\n",
    "plt.scatter(java_commits, java_TF)\n",
    "fig10.savefig('data/scatter/java_Commits_TF.png', bbox_inches='tight')"
   ]
  },
  {
   "cell_type": "code",
   "execution_count": null,
   "metadata": {},
   "outputs": [],
   "source": [
    "java_files = java['Files']\n",
    "java_TF = java['TF']\n",
    "\n",
    "fig11 = plt.figure(1, figsize=(8,8))\n",
    "plt.title('Java')\n",
    "plt.xlabel('Files')\n",
    "plt.ylabel('Truck Factor')\n",
    "plt.scatter(java_files, java_TF)\n",
    "fig11.savefig('data/scatter/java_Files_TF.png', bbox_inches='tight')"
   ]
  },
  {
   "cell_type": "code",
   "execution_count": null,
   "metadata": {},
   "outputs": [],
   "source": [
    "java_LOC = java['LOC']\n",
    "java_TF = java['TF']\n",
    "\n",
    "fig12 = plt.figure(1, figsize=(8,8))\n",
    "plt.title('Java')\n",
    "plt.xlabel('Lines of Code')\n",
    "plt.ylabel('Truck Factor')\n",
    "plt.scatter(java_LOC, java_TF)\n",
    "fig12.savefig('data/scatter/java_LOC_TF.png', bbox_inches='tight')"
   ]
  },
  {
   "cell_type": "code",
   "execution_count": null,
   "metadata": {},
   "outputs": [],
   "source": [
    "java_devs = java['Devs']\n",
    "java_TF = java['TF']\n",
    "\n",
    "fig13 = plt.figure(1, figsize=(8,8))\n",
    "plt.title('Java')\n",
    "plt.xlabel('Contributors')\n",
    "plt.ylabel('Truck Factor')\n",
    "plt.scatter(java_devs, java_TF)\n",
    "fig13.savefig('data/scatter/java_Devs_TF.png', bbox_inches='tight')"
   ]
  },
  {
   "cell_type": "code",
   "execution_count": null,
   "metadata": {},
   "outputs": [],
   "source": [
    "cplusplus_commits = cplusplus['Commits']\n",
    "cplusplus_TF = cplusplus['TF']\n",
    "\n",
    "fig14 = plt.figure(1, figsize=(8,8))\n",
    "plt.title('C++')\n",
    "plt.xlabel('Commits')\n",
    "plt.ylabel('Truck Factor')\n",
    "plt.scatter(cplusplus_commits, cplusplus_TF)\n",
    "fig14.savefig('data/scatter/cplusplus_Commits_TF.png', bbox_inches='tight')"
   ]
  },
  {
   "cell_type": "code",
   "execution_count": null,
   "metadata": {},
   "outputs": [],
   "source": [
    "cplusplus_files = cplusplus['Files']\n",
    "cplusplus_TF = cplusplus['TF']\n",
    "\n",
    "fig15 = plt.figure(1, figsize=(8,8))\n",
    "plt.title('C++')\n",
    "plt.xlabel('Files')\n",
    "plt.ylabel('Truck Factor')\n",
    "plt.scatter(cplusplus_files, cplusplus_TF)\n",
    "fig15.savefig('data/scatter/cplusplus_Files_TF.png', bbox_inches='tight')"
   ]
  },
  {
   "cell_type": "code",
   "execution_count": null,
   "metadata": {},
   "outputs": [],
   "source": [
    "cplusplus_LOC = cplusplus['LOC']\n",
    "cplusplus_TF = cplusplus['TF']\n",
    "\n",
    "fig16 = plt.figure(1, figsize=(8,8))\n",
    "plt.title('C++')\n",
    "plt.xlabel('Lines of Code')\n",
    "plt.ylabel('Truck Factor')\n",
    "plt.scatter(cplusplus_LOC, cplusplus_TF)\n",
    "fig16.savefig('data/scatter/cplusplus_LOC_TF.png', bbox_inches='tight')"
   ]
  },
  {
   "cell_type": "code",
   "execution_count": null,
   "metadata": {},
   "outputs": [],
   "source": [
    "cplusplus_devs = cplusplus['Devs']\n",
    "cplusplus_TF = cplusplus['TF']\n",
    "\n",
    "fig17 = plt.figure(1, figsize=(8,8))\n",
    "plt.title('C++')\n",
    "plt.xlabel('Contributors')\n",
    "plt.ylabel('Truck Factor')\n",
    "plt.scatter(cplusplus_devs, cplusplus_TF)\n",
    "fig17.savefig('data/scatter/cplusplus_Devs_TF.png', bbox_inches='tight')"
   ]
  },
  {
   "cell_type": "code",
   "execution_count": null,
   "metadata": {},
   "outputs": [],
   "source": [
    "python_commits = python['Commits']\n",
    "python_TF = python['TF']\n",
    "\n",
    "fig18 = plt.figure(1, figsize=(8,8))\n",
    "plt.title('Python')\n",
    "plt.xlabel('Commits')\n",
    "plt.ylabel('Truck Factor')\n",
    "plt.scatter(python_commits, python_TF)\n",
    "fig18.savefig('data/scatter/python_Commits_TF.png', bbox_inches='tight')"
   ]
  },
  {
   "cell_type": "code",
   "execution_count": null,
   "metadata": {},
   "outputs": [],
   "source": [
    "python_files = python['Files']\n",
    "python_TF = python['TF']\n",
    "\n",
    "fig19 = plt.figure(1, figsize=(8,8))\n",
    "plt.title('Python')\n",
    "plt.xlabel('Files')\n",
    "plt.ylabel('Truck Factor')\n",
    "plt.scatter(python_files, python_TF)\n",
    "fig19.savefig('data/scatter/python_Files_TF.png', bbox_inches='tight')"
   ]
  },
  {
   "cell_type": "code",
   "execution_count": null,
   "metadata": {},
   "outputs": [],
   "source": [
    "python_LOC = python['LOC']\n",
    "python_TF = python['TF']\n",
    "\n",
    "fig20 = plt.figure(1, figsize=(8,8))\n",
    "plt.title('Python')\n",
    "plt.xlabel('Lines of Code')\n",
    "plt.ylabel('Truck Factor')\n",
    "plt.scatter(python_LOC, python_TF)\n",
    "fig20.savefig('data/scatter/python_LOC_TF.png', bbox_inches='tight')"
   ]
  },
  {
   "cell_type": "code",
   "execution_count": null,
   "metadata": {},
   "outputs": [],
   "source": [
    "python_devs = python['Devs']\n",
    "python_TF = python['TF']\n",
    "\n",
    "fig21 = plt.figure(1, figsize=(8,8))\n",
    "plt.title('Python')\n",
    "plt.xlabel('Contributors')\n",
    "plt.ylabel('Truck Factor')\n",
    "plt.scatter(python_devs, python_TF)\n",
    "fig21.savefig('data/scatter/python_Devs_TF.png', bbox_inches='tight')"
   ]
  },
  {
   "cell_type": "code",
   "execution_count": null,
   "metadata": {},
   "outputs": [],
   "source": [
    "php_commits = php['Commits']\n",
    "php_TF = php['TF']\n",
    "\n",
    "fig22 = plt.figure(1, figsize=(8,8))\n",
    "plt.title('PhP')\n",
    "plt.xlabel('Commits')\n",
    "plt.ylabel('Truck Factor')\n",
    "plt.scatter(php_commits, php_TF)\n",
    "fig22.savefig('data/scatter/php_Commits_TF.png', bbox_inches='tight')"
   ]
  },
  {
   "cell_type": "code",
   "execution_count": null,
   "metadata": {},
   "outputs": [],
   "source": [
    "php_files = php['Files']\n",
    "php_TF = php['TF']\n",
    "\n",
    "fig23 = plt.figure(1, figsize=(8,8))\n",
    "plt.title('PhP')\n",
    "plt.xlabel('Files')\n",
    "plt.ylabel('Truck Factor')\n",
    "plt.scatter(php_files, php_TF)\n",
    "fig23.savefig('data/scatter/php_Files_TF.png', bbox_inches='tight')"
   ]
  },
  {
   "cell_type": "code",
   "execution_count": null,
   "metadata": {},
   "outputs": [],
   "source": [
    "php_LOC = php['LOC']\n",
    "php_TF = php['TF']\n",
    "\n",
    "fig24 = plt.figure(1, figsize=(8,8))\n",
    "plt.title('PhP')\n",
    "plt.xlabel('Lines of Code')\n",
    "plt.ylabel('Truck Factor')\n",
    "plt.scatter(php_LOC, php_TF)\n",
    "fig24.savefig('data/scatter/php_LOC_TF.png', bbox_inches='tight')"
   ]
  },
  {
   "cell_type": "code",
   "execution_count": null,
   "metadata": {},
   "outputs": [],
   "source": [
    "php_devs = php['Devs']\n",
    "php_TF = php['TF']\n",
    "\n",
    "fig25 = plt.figure(1, figsize=(8,8))\n",
    "plt.title('PhP')\n",
    "plt.xlabel('Contributors')\n",
    "plt.ylabel('Truck Factor')\n",
    "plt.scatter(php_devs, php_TF)\n",
    "fig25.savefig('data/scatter/php_Devs_TF.png', bbox_inches='tight')"
   ]
  },
  {
   "cell_type": "code",
   "execution_count": null,
   "metadata": {},
   "outputs": [],
   "source": [
    "results_commits = results['Commits']\n",
    "results_TF = results['TF']\n",
    "\n",
    "fig26 = plt.figure(1, figsize=(8,8))\n",
    "plt.title('Results')\n",
    "plt.xlabel('Commits')\n",
    "plt.ylabel('Truck Factor')\n",
    "plt.scatter(results_commits, results_TF)\n",
    "fig26.savefig('data/scatter/Results_Commits_TF.png', bbox_inches='tight')"
   ]
  },
  {
   "cell_type": "code",
   "execution_count": null,
   "metadata": {},
   "outputs": [],
   "source": [
    "results_files = results['Files']\n",
    "results_TF = results['TF']\n",
    "\n",
    "fig27 = plt.figure(1, figsize=(8,8))\n",
    "plt.title('Results')\n",
    "plt.xlabel('Files')\n",
    "plt.ylabel('Truck Factor')\n",
    "plt.scatter(results_files, results_TF)\n",
    "fig27.savefig('data/scatter/Results_Files_TF.png', bbox_inches='tight')"
   ]
  },
  {
   "cell_type": "code",
   "execution_count": null,
   "metadata": {},
   "outputs": [],
   "source": [
    "results_LOC = results['LOC']\n",
    "results_TF = results['TF']\n",
    "\n",
    "fig28 = plt.figure(1, figsize=(8,8))\n",
    "plt.title('Results')\n",
    "plt.xlabel('Lines of Code')\n",
    "plt.ylabel('Truck Factor')\n",
    "plt.scatter(results_LOC, results_TF)\n",
    "fig28.savefig('data/scatter/Results_LOC_TF.png', bbox_inches='tight')"
   ]
  },
  {
   "cell_type": "code",
   "execution_count": null,
   "metadata": {},
   "outputs": [],
   "source": [
    "results_devs = results['Devs']\n",
    "results_TF = results['TF']\n",
    "\n",
    "fig29 = plt.figure(1, figsize=(8,8))\n",
    "plt.title('Results')\n",
    "plt.xlabel('Contributors')\n",
    "plt.ylabel('Truck Factor')\n",
    "plt.scatter(results_devs, results_TF)\n",
    "fig29.savefig('data/scatter/Results_Devs_TF.png', bbox_inches='tight')"
   ]
  },
  {
   "cell_type": "code",
   "execution_count": null,
   "metadata": {},
   "outputs": [],
   "source": [
    "javascript[\"TF\"].mean()"
   ]
  },
  {
   "cell_type": "code",
   "execution_count": null,
   "metadata": {
    "scrolled": true
   },
   "outputs": [],
   "source": [
    "javascript[\"TF\"].median()"
   ]
  },
  {
   "cell_type": "code",
   "execution_count": null,
   "metadata": {},
   "outputs": [],
   "source": [
    "javascript[\"TF\"].var()"
   ]
  },
  {
   "cell_type": "code",
   "execution_count": null,
   "metadata": {},
   "outputs": [],
   "source": [
    "javascript[\"TF\"].std()"
   ]
  },
  {
   "cell_type": "code",
   "execution_count": null,
   "metadata": {},
   "outputs": [],
   "source": [
    "javascript.sort_values(by=[\"TF\"], ascending=False)"
   ]
  },
  {
   "cell_type": "code",
   "execution_count": null,
   "metadata": {},
   "outputs": [],
   "source": [
    "javascript.sort_values(by=[\"Commits\"], ascending=False)"
   ]
  },
  {
   "cell_type": "code",
   "execution_count": null,
   "metadata": {},
   "outputs": [],
   "source": [
    "javascript.sort_values(by=[\"Files\"], ascending=False)"
   ]
  },
  {
   "cell_type": "code",
   "execution_count": null,
   "metadata": {},
   "outputs": [],
   "source": [
    "javascript.sort_values(by=[\"LOC\"], ascending=False)"
   ]
  },
  {
   "cell_type": "code",
   "execution_count": null,
   "metadata": {},
   "outputs": [],
   "source": [
    "javascript.sort_values(by=[\"Devs\"], ascending=False)"
   ]
  },
  {
   "cell_type": "code",
   "execution_count": null,
   "metadata": {},
   "outputs": [],
   "source": [
    "java[\"TF\"].mean()"
   ]
  },
  {
   "cell_type": "code",
   "execution_count": null,
   "metadata": {},
   "outputs": [],
   "source": [
    "java[\"TF\"].median()"
   ]
  },
  {
   "cell_type": "code",
   "execution_count": null,
   "metadata": {},
   "outputs": [],
   "source": [
    "java[\"TF\"].var()"
   ]
  },
  {
   "cell_type": "code",
   "execution_count": null,
   "metadata": {},
   "outputs": [],
   "source": [
    "java[\"TF\"].std()"
   ]
  },
  {
   "cell_type": "code",
   "execution_count": null,
   "metadata": {},
   "outputs": [],
   "source": [
    "java.sort_values(by=[\"TF\"], ascending=False)"
   ]
  },
  {
   "cell_type": "code",
   "execution_count": null,
   "metadata": {},
   "outputs": [],
   "source": [
    "java.sort_values(by=[\"Commits\"], ascending=False)"
   ]
  },
  {
   "cell_type": "code",
   "execution_count": null,
   "metadata": {},
   "outputs": [],
   "source": [
    "java.sort_values(by=[\"Files\"], ascending=False)"
   ]
  },
  {
   "cell_type": "code",
   "execution_count": null,
   "metadata": {},
   "outputs": [],
   "source": [
    "java.sort_values(by=[\"LOC\"], ascending=False)"
   ]
  },
  {
   "cell_type": "code",
   "execution_count": null,
   "metadata": {},
   "outputs": [],
   "source": [
    "java.sort_values(by=[\"Devs\"], ascending=False)"
   ]
  },
  {
   "cell_type": "code",
   "execution_count": null,
   "metadata": {},
   "outputs": [],
   "source": [
    "cplusplus[\"TF\"].mean()"
   ]
  },
  {
   "cell_type": "code",
   "execution_count": null,
   "metadata": {},
   "outputs": [],
   "source": [
    "cplusplus[\"TF\"].median()"
   ]
  },
  {
   "cell_type": "code",
   "execution_count": null,
   "metadata": {},
   "outputs": [],
   "source": [
    "cplusplus[\"TF\"].var()"
   ]
  },
  {
   "cell_type": "code",
   "execution_count": null,
   "metadata": {},
   "outputs": [],
   "source": [
    "cplusplus[\"TF\"].std()"
   ]
  },
  {
   "cell_type": "code",
   "execution_count": null,
   "metadata": {},
   "outputs": [],
   "source": [
    "cplusplus.sort_values(by=[\"TF\"], ascending=False)"
   ]
  },
  {
   "cell_type": "code",
   "execution_count": null,
   "metadata": {},
   "outputs": [],
   "source": [
    "cplusplus.sort_values(by=[\"Commits\"], ascending=False)"
   ]
  },
  {
   "cell_type": "code",
   "execution_count": null,
   "metadata": {},
   "outputs": [],
   "source": [
    "cplusplus.sort_values(by=[\"Files\"], ascending=False)"
   ]
  },
  {
   "cell_type": "code",
   "execution_count": null,
   "metadata": {},
   "outputs": [],
   "source": [
    "cplusplus.sort_values(by=[\"LOC\"], ascending=False)"
   ]
  },
  {
   "cell_type": "code",
   "execution_count": null,
   "metadata": {},
   "outputs": [],
   "source": [
    "cplusplus.sort_values(by=[\"Devs\"], ascending=False)"
   ]
  },
  {
   "cell_type": "code",
   "execution_count": null,
   "metadata": {},
   "outputs": [],
   "source": [
    "python[\"TF\"].mean()"
   ]
  },
  {
   "cell_type": "code",
   "execution_count": null,
   "metadata": {},
   "outputs": [],
   "source": [
    "python[\"TF\"].median()"
   ]
  },
  {
   "cell_type": "code",
   "execution_count": null,
   "metadata": {},
   "outputs": [],
   "source": [
    "python[\"TF\"].var()"
   ]
  },
  {
   "cell_type": "code",
   "execution_count": null,
   "metadata": {},
   "outputs": [],
   "source": [
    "python[\"TF\"].std()"
   ]
  },
  {
   "cell_type": "code",
   "execution_count": null,
   "metadata": {},
   "outputs": [],
   "source": [
    "python.sort_values(by=[\"TF\"], ascending=False)"
   ]
  },
  {
   "cell_type": "code",
   "execution_count": null,
   "metadata": {},
   "outputs": [],
   "source": [
    "python.sort_values(by=[\"Commits\"], ascending=False)"
   ]
  },
  {
   "cell_type": "code",
   "execution_count": null,
   "metadata": {},
   "outputs": [],
   "source": [
    "python.sort_values(by=[\"Files\"], ascending=False)"
   ]
  },
  {
   "cell_type": "code",
   "execution_count": null,
   "metadata": {},
   "outputs": [],
   "source": [
    "python.sort_values(by=[\"LOC\"], ascending=False)"
   ]
  },
  {
   "cell_type": "code",
   "execution_count": null,
   "metadata": {},
   "outputs": [],
   "source": [
    "python.sort_values(by=[\"Devs\"], ascending=False)"
   ]
  },
  {
   "cell_type": "code",
   "execution_count": null,
   "metadata": {},
   "outputs": [],
   "source": [
    "php[\"TF\"].mean()"
   ]
  },
  {
   "cell_type": "code",
   "execution_count": null,
   "metadata": {},
   "outputs": [],
   "source": [
    "php[\"TF\"].median()"
   ]
  },
  {
   "cell_type": "code",
   "execution_count": null,
   "metadata": {},
   "outputs": [],
   "source": [
    "php[\"TF\"].var()"
   ]
  },
  {
   "cell_type": "code",
   "execution_count": null,
   "metadata": {},
   "outputs": [],
   "source": [
    "php[\"TF\"].std()"
   ]
  },
  {
   "cell_type": "code",
   "execution_count": null,
   "metadata": {},
   "outputs": [],
   "source": [
    "php.sort_values(by=[\"TF\"], ascending=False)"
   ]
  },
  {
   "cell_type": "code",
   "execution_count": null,
   "metadata": {},
   "outputs": [],
   "source": [
    "php.sort_values(by=[\"Commits\"], ascending=False)"
   ]
  },
  {
   "cell_type": "code",
   "execution_count": null,
   "metadata": {},
   "outputs": [],
   "source": [
    "php.sort_values(by=[\"Files\"], ascending=False)"
   ]
  },
  {
   "cell_type": "code",
   "execution_count": null,
   "metadata": {},
   "outputs": [],
   "source": [
    "php.sort_values(by=[\"LOC\"], ascending=False)"
   ]
  },
  {
   "cell_type": "code",
   "execution_count": null,
   "metadata": {},
   "outputs": [],
   "source": [
    "php.sort_values(by=[\"Devs\"], ascending=False)"
   ]
  },
  {
   "cell_type": "code",
   "execution_count": null,
   "metadata": {},
   "outputs": [],
   "source": [
    "results.nlargest(25, \"TF\")"
   ]
  },
  {
   "cell_type": "code",
   "execution_count": null,
   "metadata": {},
   "outputs": [],
   "source": [
    "results.nlargest(100, \"TF\")"
   ]
  },
  {
   "cell_type": "code",
   "execution_count": null,
   "metadata": {},
   "outputs": [],
   "source": [
    "results[\"LOC\"].mean()"
   ]
  },
  {
   "cell_type": "code",
   "execution_count": null,
   "metadata": {},
   "outputs": [],
   "source": [
    "results[\"Devs\"].mean()"
   ]
  },
  {
   "cell_type": "code",
   "execution_count": null,
   "metadata": {},
   "outputs": [],
   "source": [
    "results[\"Devs\"].median()"
   ]
  },
  {
   "cell_type": "code",
   "execution_count": null,
   "metadata": {},
   "outputs": [],
   "source": [
    "results[\"LOC\"].var()"
   ]
  },
  {
   "cell_type": "code",
   "execution_count": null,
   "metadata": {},
   "outputs": [],
   "source": [
    "results[\"LOC\"].std()"
   ]
  },
  {
   "cell_type": "code",
   "execution_count": 9,
   "metadata": {},
   "outputs": [
    {
     "data": {
      "text/html": [
       "<div>\n",
       "<style scoped>\n",
       "    .dataframe tbody tr th:only-of-type {\n",
       "        vertical-align: middle;\n",
       "    }\n",
       "\n",
       "    .dataframe tbody tr th {\n",
       "        vertical-align: top;\n",
       "    }\n",
       "\n",
       "    .dataframe thead th {\n",
       "        text-align: right;\n",
       "    }\n",
       "</style>\n",
       "<table border=\"1\" class=\"dataframe\">\n",
       "  <thead>\n",
       "    <tr style=\"text-align: right;\">\n",
       "      <th></th>\n",
       "      <th>Index</th>\n",
       "      <th>Repositories</th>\n",
       "      <th>Commits</th>\n",
       "      <th>Files</th>\n",
       "      <th>LOC</th>\n",
       "      <th>TF</th>\n",
       "      <th>Devs</th>\n",
       "    </tr>\n",
       "  </thead>\n",
       "  <tbody>\n",
       "    <tr>\n",
       "      <th>7</th>\n",
       "      <td>7</td>\n",
       "      <td>nodejs/node</td>\n",
       "      <td>31551</td>\n",
       "      <td>4526</td>\n",
       "      <td>423490</td>\n",
       "      <td>15</td>\n",
       "      <td>3236</td>\n",
       "    </tr>\n",
       "    <tr>\n",
       "      <th>4</th>\n",
       "      <td>4</td>\n",
       "      <td>facebook/react-native</td>\n",
       "      <td>20897</td>\n",
       "      <td>3542</td>\n",
       "      <td>410085</td>\n",
       "      <td>14</td>\n",
       "      <td>3061</td>\n",
       "    </tr>\n",
       "    <tr>\n",
       "      <th>27</th>\n",
       "      <td>27</td>\n",
       "      <td>gatsbyjs/gatsby</td>\n",
       "      <td>16605</td>\n",
       "      <td>2257</td>\n",
       "      <td>171769</td>\n",
       "      <td>11</td>\n",
       "      <td>4044</td>\n",
       "    </tr>\n",
       "    <tr>\n",
       "      <th>75</th>\n",
       "      <td>75</td>\n",
       "      <td>request/request</td>\n",
       "      <td>2270</td>\n",
       "      <td>79</td>\n",
       "      <td>9869</td>\n",
       "      <td>7</td>\n",
       "      <td>358</td>\n",
       "    </tr>\n",
       "    <tr>\n",
       "      <th>92</th>\n",
       "      <td>92</td>\n",
       "      <td>emberjs/ember.js</td>\n",
       "      <td>20026</td>\n",
       "      <td>1020</td>\n",
       "      <td>122208</td>\n",
       "      <td>7</td>\n",
       "      <td>1128</td>\n",
       "    </tr>\n",
       "    <tr>\n",
       "      <th>8</th>\n",
       "      <td>8</td>\n",
       "      <td>angular/angular.js</td>\n",
       "      <td>9020</td>\n",
       "      <td>376</td>\n",
       "      <td>128792</td>\n",
       "      <td>6</td>\n",
       "      <td>1880</td>\n",
       "    </tr>\n",
       "    <tr>\n",
       "      <th>44</th>\n",
       "      <td>44</td>\n",
       "      <td>adobe/brackets</td>\n",
       "      <td>17845</td>\n",
       "      <td>1152</td>\n",
       "      <td>241789</td>\n",
       "      <td>6</td>\n",
       "      <td>543</td>\n",
       "    </tr>\n",
       "    <tr>\n",
       "      <th>31</th>\n",
       "      <td>31</td>\n",
       "      <td>yarnpkg/yarn</td>\n",
       "      <td>2339</td>\n",
       "      <td>441</td>\n",
       "      <td>38652</td>\n",
       "      <td>5</td>\n",
       "      <td>552</td>\n",
       "    </tr>\n",
       "    <tr>\n",
       "      <th>34</th>\n",
       "      <td>34</td>\n",
       "      <td>babel/babel</td>\n",
       "      <td>13925</td>\n",
       "      <td>12059</td>\n",
       "      <td>147376</td>\n",
       "      <td>5</td>\n",
       "      <td>1033</td>\n",
       "    </tr>\n",
       "    <tr>\n",
       "      <th>38</th>\n",
       "      <td>38</td>\n",
       "      <td>serverless/serverless</td>\n",
       "      <td>12935</td>\n",
       "      <td>614</td>\n",
       "      <td>77981</td>\n",
       "      <td>5</td>\n",
       "      <td>965</td>\n",
       "    </tr>\n",
       "  </tbody>\n",
       "</table>\n",
       "</div>"
      ],
      "text/plain": [
       "    Index           Repositories  Commits  Files     LOC  TF  Devs\n",
       "7       7            nodejs/node    31551   4526  423490  15  3236\n",
       "4       4  facebook/react-native    20897   3542  410085  14  3061\n",
       "27     27        gatsbyjs/gatsby    16605   2257  171769  11  4044\n",
       "75     75        request/request     2270     79    9869   7   358\n",
       "92     92       emberjs/ember.js    20026   1020  122208   7  1128\n",
       "8       8     angular/angular.js     9020    376  128792   6  1880\n",
       "44     44         adobe/brackets    17845   1152  241789   6   543\n",
       "31     31           yarnpkg/yarn     2339    441   38652   5   552\n",
       "34     34            babel/babel    13925  12059  147376   5  1033\n",
       "38     38  serverless/serverless    12935    614   77981   5   965"
      ]
     },
     "execution_count": 9,
     "metadata": {},
     "output_type": "execute_result"
    }
   ],
   "source": [
    "javascript.nlargest(10, \"TF\")"
   ]
  },
  {
   "cell_type": "code",
   "execution_count": 10,
   "metadata": {},
   "outputs": [
    {
     "data": {
      "text/html": [
       "<div>\n",
       "<style scoped>\n",
       "    .dataframe tbody tr th:only-of-type {\n",
       "        vertical-align: middle;\n",
       "    }\n",
       "\n",
       "    .dataframe tbody tr th {\n",
       "        vertical-align: top;\n",
       "    }\n",
       "\n",
       "    .dataframe thead th {\n",
       "        text-align: right;\n",
       "    }\n",
       "</style>\n",
       "<table border=\"1\" class=\"dataframe\">\n",
       "  <thead>\n",
       "    <tr style=\"text-align: right;\">\n",
       "      <th></th>\n",
       "      <th>Index</th>\n",
       "      <th>Repositories</th>\n",
       "      <th>Commits</th>\n",
       "      <th>Files</th>\n",
       "      <th>LOC</th>\n",
       "      <th>TF</th>\n",
       "      <th>Devs</th>\n",
       "    </tr>\n",
       "  </thead>\n",
       "  <tbody>\n",
       "    <tr>\n",
       "      <th>0</th>\n",
       "      <td>0</td>\n",
       "      <td>elastic/elasticsearch</td>\n",
       "      <td>54518</td>\n",
       "      <td>14120</td>\n",
       "      <td>1754569</td>\n",
       "      <td>17</td>\n",
       "      <td>1817</td>\n",
       "    </tr>\n",
       "    <tr>\n",
       "      <th>86</th>\n",
       "      <td>86</td>\n",
       "      <td>apache/hadoop</td>\n",
       "      <td>24173</td>\n",
       "      <td>12434</td>\n",
       "      <td>1908489</td>\n",
       "      <td>16</td>\n",
       "      <td>591</td>\n",
       "    </tr>\n",
       "    <tr>\n",
       "      <th>41</th>\n",
       "      <td>41</td>\n",
       "      <td>bazelbuild/bazel</td>\n",
       "      <td>27144</td>\n",
       "      <td>6114</td>\n",
       "      <td>820364</td>\n",
       "      <td>14</td>\n",
       "      <td>837</td>\n",
       "    </tr>\n",
       "    <tr>\n",
       "      <th>35</th>\n",
       "      <td>35</td>\n",
       "      <td>apache/kafka</td>\n",
       "      <td>7927</td>\n",
       "      <td>3406</td>\n",
       "      <td>503204</td>\n",
       "      <td>13</td>\n",
       "      <td>1564</td>\n",
       "    </tr>\n",
       "    <tr>\n",
       "      <th>84</th>\n",
       "      <td>84</td>\n",
       "      <td>prestodb/presto</td>\n",
       "      <td>18109</td>\n",
       "      <td>6823</td>\n",
       "      <td>817311</td>\n",
       "      <td>13</td>\n",
       "      <td>566</td>\n",
       "    </tr>\n",
       "    <tr>\n",
       "      <th>62</th>\n",
       "      <td>62</td>\n",
       "      <td>oracle/graal</td>\n",
       "      <td>47060</td>\n",
       "      <td>10018</td>\n",
       "      <td>977674</td>\n",
       "      <td>9</td>\n",
       "      <td>322</td>\n",
       "    </tr>\n",
       "    <tr>\n",
       "      <th>37</th>\n",
       "      <td>37</td>\n",
       "      <td>jenkinsci/jenkins</td>\n",
       "      <td>30374</td>\n",
       "      <td>2877</td>\n",
       "      <td>209070</td>\n",
       "      <td>6</td>\n",
       "      <td>1029</td>\n",
       "    </tr>\n",
       "    <tr>\n",
       "      <th>55</th>\n",
       "      <td>55</td>\n",
       "      <td>apache/skywalking</td>\n",
       "      <td>5892</td>\n",
       "      <td>3335</td>\n",
       "      <td>148540</td>\n",
       "      <td>5</td>\n",
       "      <td>339</td>\n",
       "    </tr>\n",
       "    <tr>\n",
       "      <th>5</th>\n",
       "      <td>5</td>\n",
       "      <td>spring-projects/spring-framework</td>\n",
       "      <td>21453</td>\n",
       "      <td>7364</td>\n",
       "      <td>669692</td>\n",
       "      <td>4</td>\n",
       "      <td>629</td>\n",
       "    </tr>\n",
       "    <tr>\n",
       "      <th>39</th>\n",
       "      <td>39</td>\n",
       "      <td>seata/seata</td>\n",
       "      <td>1062</td>\n",
       "      <td>1258</td>\n",
       "      <td>73843</td>\n",
       "      <td>4</td>\n",
       "      <td>199</td>\n",
       "    </tr>\n",
       "  </tbody>\n",
       "</table>\n",
       "</div>"
      ],
      "text/plain": [
       "    Index                      Repositories  Commits  Files      LOC  TF  Devs\n",
       "0       0             elastic/elasticsearch    54518  14120  1754569  17  1817\n",
       "86     86                     apache/hadoop    24173  12434  1908489  16   591\n",
       "41     41                  bazelbuild/bazel    27144   6114   820364  14   837\n",
       "35     35                      apache/kafka     7927   3406   503204  13  1564\n",
       "84     84                   prestodb/presto    18109   6823   817311  13   566\n",
       "62     62                      oracle/graal    47060  10018   977674   9   322\n",
       "37     37                 jenkinsci/jenkins    30374   2877   209070   6  1029\n",
       "55     55                 apache/skywalking     5892   3335   148540   5   339\n",
       "5       5  spring-projects/spring-framework    21453   7364   669692   4   629\n",
       "39     39                       seata/seata     1062   1258    73843   4   199"
      ]
     },
     "execution_count": 10,
     "metadata": {},
     "output_type": "execute_result"
    }
   ],
   "source": [
    "java.nlargest(10, \"TF\")"
   ]
  },
  {
   "cell_type": "code",
   "execution_count": 11,
   "metadata": {},
   "outputs": [
    {
     "data": {
      "text/html": [
       "<div>\n",
       "<style scoped>\n",
       "    .dataframe tbody tr th:only-of-type {\n",
       "        vertical-align: middle;\n",
       "    }\n",
       "\n",
       "    .dataframe tbody tr th {\n",
       "        vertical-align: top;\n",
       "    }\n",
       "\n",
       "    .dataframe thead th {\n",
       "        text-align: right;\n",
       "    }\n",
       "</style>\n",
       "<table border=\"1\" class=\"dataframe\">\n",
       "  <thead>\n",
       "    <tr style=\"text-align: right;\">\n",
       "      <th></th>\n",
       "      <th>Index</th>\n",
       "      <th>Repositories</th>\n",
       "      <th>Commits</th>\n",
       "      <th>Files</th>\n",
       "      <th>LOC</th>\n",
       "      <th>TF</th>\n",
       "      <th>Devs</th>\n",
       "    </tr>\n",
       "  </thead>\n",
       "  <tbody>\n",
       "    <tr>\n",
       "      <th>7</th>\n",
       "      <td>7</td>\n",
       "      <td>pytorch/pytorch</td>\n",
       "      <td>29570</td>\n",
       "      <td>6548</td>\n",
       "      <td>1129496</td>\n",
       "      <td>28</td>\n",
       "      <td>2370</td>\n",
       "    </tr>\n",
       "    <tr>\n",
       "      <th>23</th>\n",
       "      <td>23</td>\n",
       "      <td>mongodb/mongo</td>\n",
       "      <td>53747</td>\n",
       "      <td>8939</td>\n",
       "      <td>1137647</td>\n",
       "      <td>27</td>\n",
       "      <td>857</td>\n",
       "    </tr>\n",
       "    <tr>\n",
       "      <th>51</th>\n",
       "      <td>51</td>\n",
       "      <td>PaddlePaddle/Paddle</td>\n",
       "      <td>28257</td>\n",
       "      <td>4150</td>\n",
       "      <td>590985</td>\n",
       "      <td>27</td>\n",
       "      <td>645</td>\n",
       "    </tr>\n",
       "    <tr>\n",
       "      <th>32</th>\n",
       "      <td>32</td>\n",
       "      <td>v8/v8</td>\n",
       "      <td>64248</td>\n",
       "      <td>10393</td>\n",
       "      <td>2081251</td>\n",
       "      <td>21</td>\n",
       "      <td>932</td>\n",
       "    </tr>\n",
       "    <tr>\n",
       "      <th>28</th>\n",
       "      <td>28</td>\n",
       "      <td>ApolloAuto/apollo</td>\n",
       "      <td>17062</td>\n",
       "      <td>4584</td>\n",
       "      <td>408404</td>\n",
       "      <td>12</td>\n",
       "      <td>480</td>\n",
       "    </tr>\n",
       "    <tr>\n",
       "      <th>34</th>\n",
       "      <td>34</td>\n",
       "      <td>facebook/folly</td>\n",
       "      <td>8820</td>\n",
       "      <td>1720</td>\n",
       "      <td>300996</td>\n",
       "      <td>12</td>\n",
       "      <td>918</td>\n",
       "    </tr>\n",
       "    <tr>\n",
       "      <th>24</th>\n",
       "      <td>24</td>\n",
       "      <td>microsoft/CNTK</td>\n",
       "      <td>16116</td>\n",
       "      <td>1333</td>\n",
       "      <td>264663</td>\n",
       "      <td>10</td>\n",
       "      <td>391</td>\n",
       "    </tr>\n",
       "    <tr>\n",
       "      <th>98</th>\n",
       "      <td>98</td>\n",
       "      <td>ceph/ceph</td>\n",
       "      <td>115041</td>\n",
       "      <td>5836</td>\n",
       "      <td>1328281</td>\n",
       "      <td>10</td>\n",
       "      <td>1364</td>\n",
       "    </tr>\n",
       "    <tr>\n",
       "      <th>3</th>\n",
       "      <td>3</td>\n",
       "      <td>apple/swift</td>\n",
       "      <td>111440</td>\n",
       "      <td>17171</td>\n",
       "      <td>1291045</td>\n",
       "      <td>8</td>\n",
       "      <td>1082</td>\n",
       "    </tr>\n",
       "    <tr>\n",
       "      <th>13</th>\n",
       "      <td>13</td>\n",
       "      <td>grpc/grpc</td>\n",
       "      <td>46635</td>\n",
       "      <td>4096</td>\n",
       "      <td>468849</td>\n",
       "      <td>8</td>\n",
       "      <td>807</td>\n",
       "    </tr>\n",
       "  </tbody>\n",
       "</table>\n",
       "</div>"
      ],
      "text/plain": [
       "    Index         Repositories  Commits  Files      LOC  TF  Devs\n",
       "7       7      pytorch/pytorch    29570   6548  1129496  28  2370\n",
       "23     23        mongodb/mongo    53747   8939  1137647  27   857\n",
       "51     51  PaddlePaddle/Paddle    28257   4150   590985  27   645\n",
       "32     32                v8/v8    64248  10393  2081251  21   932\n",
       "28     28    ApolloAuto/apollo    17062   4584   408404  12   480\n",
       "34     34       facebook/folly     8820   1720   300996  12   918\n",
       "24     24       microsoft/CNTK    16116   1333   264663  10   391\n",
       "98     98            ceph/ceph   115041   5836  1328281  10  1364\n",
       "3       3          apple/swift   111440  17171  1291045   8  1082\n",
       "13     13            grpc/grpc    46635   4096   468849   8   807"
      ]
     },
     "execution_count": 11,
     "metadata": {},
     "output_type": "execute_result"
    }
   ],
   "source": [
    "cplusplus.nlargest(10, \"TF\")"
   ]
  },
  {
   "cell_type": "code",
   "execution_count": 12,
   "metadata": {},
   "outputs": [
    {
     "data": {
      "text/html": [
       "<div>\n",
       "<style scoped>\n",
       "    .dataframe tbody tr th:only-of-type {\n",
       "        vertical-align: middle;\n",
       "    }\n",
       "\n",
       "    .dataframe tbody tr th {\n",
       "        vertical-align: top;\n",
       "    }\n",
       "\n",
       "    .dataframe thead th {\n",
       "        text-align: right;\n",
       "    }\n",
       "</style>\n",
       "<table border=\"1\" class=\"dataframe\">\n",
       "  <thead>\n",
       "    <tr style=\"text-align: right;\">\n",
       "      <th></th>\n",
       "      <th>Index</th>\n",
       "      <th>Repositories</th>\n",
       "      <th>Commits</th>\n",
       "      <th>Files</th>\n",
       "      <th>LOC</th>\n",
       "      <th>TF</th>\n",
       "      <th>Devs</th>\n",
       "    </tr>\n",
       "  </thead>\n",
       "  <tbody>\n",
       "    <tr>\n",
       "      <th>36</th>\n",
       "      <td>36</td>\n",
       "      <td>odoo/odoo</td>\n",
       "      <td>134241</td>\n",
       "      <td>4701</td>\n",
       "      <td>675469</td>\n",
       "      <td>27</td>\n",
       "      <td>1876</td>\n",
       "    </tr>\n",
       "    <tr>\n",
       "      <th>30</th>\n",
       "      <td>30</td>\n",
       "      <td>apache/incubator-mxnet</td>\n",
       "      <td>11289</td>\n",
       "      <td>1819</td>\n",
       "      <td>335605</td>\n",
       "      <td>18</td>\n",
       "      <td>1049</td>\n",
       "    </tr>\n",
       "    <tr>\n",
       "      <th>14</th>\n",
       "      <td>14</td>\n",
       "      <td>python/cpython</td>\n",
       "      <td>108048</td>\n",
       "      <td>2644</td>\n",
       "      <td>988581</td>\n",
       "      <td>16</td>\n",
       "      <td>1582</td>\n",
       "    </tr>\n",
       "    <tr>\n",
       "      <th>52</th>\n",
       "      <td>52</td>\n",
       "      <td>spotify/luigi</td>\n",
       "      <td>3925</td>\n",
       "      <td>255</td>\n",
       "      <td>41281</td>\n",
       "      <td>15</td>\n",
       "      <td>589</td>\n",
       "    </tr>\n",
       "    <tr>\n",
       "      <th>8</th>\n",
       "      <td>8</td>\n",
       "      <td>scikit-learn/scikit-learn</td>\n",
       "      <td>26102</td>\n",
       "      <td>611</td>\n",
       "      <td>136783</td>\n",
       "      <td>13</td>\n",
       "      <td>2112</td>\n",
       "    </tr>\n",
       "    <tr>\n",
       "      <th>75</th>\n",
       "      <td>75</td>\n",
       "      <td>ray-project/ray</td>\n",
       "      <td>5807</td>\n",
       "      <td>1991</td>\n",
       "      <td>223391</td>\n",
       "      <td>13</td>\n",
       "      <td>415</td>\n",
       "    </tr>\n",
       "    <tr>\n",
       "      <th>73</th>\n",
       "      <td>73</td>\n",
       "      <td>saltstack/salt</td>\n",
       "      <td>109049</td>\n",
       "      <td>3432</td>\n",
       "      <td>693687</td>\n",
       "      <td>11</td>\n",
       "      <td>3744</td>\n",
       "    </tr>\n",
       "    <tr>\n",
       "      <th>3</th>\n",
       "      <td>3</td>\n",
       "      <td>django/django</td>\n",
       "      <td>28753</td>\n",
       "      <td>2459</td>\n",
       "      <td>263815</td>\n",
       "      <td>9</td>\n",
       "      <td>2475</td>\n",
       "    </tr>\n",
       "    <tr>\n",
       "      <th>18</th>\n",
       "      <td>18</td>\n",
       "      <td>getsentry/sentry</td>\n",
       "      <td>31705</td>\n",
       "      <td>5400</td>\n",
       "      <td>486723</td>\n",
       "      <td>7</td>\n",
       "      <td>622</td>\n",
       "    </tr>\n",
       "    <tr>\n",
       "      <th>76</th>\n",
       "      <td>76</td>\n",
       "      <td>RaRe-Technologies/gensim</td>\n",
       "      <td>3980</td>\n",
       "      <td>195</td>\n",
       "      <td>31417</td>\n",
       "      <td>7</td>\n",
       "      <td>430</td>\n",
       "    </tr>\n",
       "  </tbody>\n",
       "</table>\n",
       "</div>"
      ],
      "text/plain": [
       "    Index               Repositories  Commits  Files     LOC  TF  Devs\n",
       "36     36                  odoo/odoo   134241   4701  675469  27  1876\n",
       "30     30     apache/incubator-mxnet    11289   1819  335605  18  1049\n",
       "14     14             python/cpython   108048   2644  988581  16  1582\n",
       "52     52              spotify/luigi     3925    255   41281  15   589\n",
       "8       8  scikit-learn/scikit-learn    26102    611  136783  13  2112\n",
       "75     75            ray-project/ray     5807   1991  223391  13   415\n",
       "73     73             saltstack/salt   109049   3432  693687  11  3744\n",
       "3       3              django/django    28753   2459  263815   9  2475\n",
       "18     18           getsentry/sentry    31705   5400  486723   7   622\n",
       "76     76   RaRe-Technologies/gensim     3980    195   31417   7   430"
      ]
     },
     "execution_count": 12,
     "metadata": {},
     "output_type": "execute_result"
    }
   ],
   "source": [
    "python.nlargest(10, \"TF\")"
   ]
  },
  {
   "cell_type": "code",
   "execution_count": 13,
   "metadata": {},
   "outputs": [
    {
     "data": {
      "text/html": [
       "<div>\n",
       "<style scoped>\n",
       "    .dataframe tbody tr th:only-of-type {\n",
       "        vertical-align: middle;\n",
       "    }\n",
       "\n",
       "    .dataframe tbody tr th {\n",
       "        vertical-align: top;\n",
       "    }\n",
       "\n",
       "    .dataframe thead th {\n",
       "        text-align: right;\n",
       "    }\n",
       "</style>\n",
       "<table border=\"1\" class=\"dataframe\">\n",
       "  <thead>\n",
       "    <tr style=\"text-align: right;\">\n",
       "      <th></th>\n",
       "      <th>Index</th>\n",
       "      <th>Repositories</th>\n",
       "      <th>Commits</th>\n",
       "      <th>Files</th>\n",
       "      <th>LOC</th>\n",
       "      <th>TF</th>\n",
       "      <th>Devs</th>\n",
       "    </tr>\n",
       "  </thead>\n",
       "  <tbody>\n",
       "    <tr>\n",
       "      <th>2</th>\n",
       "      <td>2</td>\n",
       "      <td>fzaninotto/Faker</td>\n",
       "      <td>2614</td>\n",
       "      <td>588</td>\n",
       "      <td>106614</td>\n",
       "      <td>13</td>\n",
       "      <td>540</td>\n",
       "    </tr>\n",
       "    <tr>\n",
       "      <th>13</th>\n",
       "      <td>13</td>\n",
       "      <td>WordPress/WordPress</td>\n",
       "      <td>42351</td>\n",
       "      <td>1507</td>\n",
       "      <td>510877</td>\n",
       "      <td>10</td>\n",
       "      <td>102</td>\n",
       "    </tr>\n",
       "    <tr>\n",
       "      <th>33</th>\n",
       "      <td>33</td>\n",
       "      <td>nextcloud/server</td>\n",
       "      <td>55210</td>\n",
       "      <td>5518</td>\n",
       "      <td>523794</td>\n",
       "      <td>6</td>\n",
       "      <td>949</td>\n",
       "    </tr>\n",
       "    <tr>\n",
       "      <th>14</th>\n",
       "      <td>14</td>\n",
       "      <td>yiisoft/yii2</td>\n",
       "      <td>19395</td>\n",
       "      <td>1046</td>\n",
       "      <td>118894</td>\n",
       "      <td>5</td>\n",
       "      <td>1446</td>\n",
       "    </tr>\n",
       "    <tr>\n",
       "      <th>58</th>\n",
       "      <td>58</td>\n",
       "      <td>symfony/console</td>\n",
       "      <td>3087</td>\n",
       "      <td>211</td>\n",
       "      <td>18094</td>\n",
       "      <td>5</td>\n",
       "      <td>355</td>\n",
       "    </tr>\n",
       "    <tr>\n",
       "      <th>60</th>\n",
       "      <td>60</td>\n",
       "      <td>doctrine/orm</td>\n",
       "      <td>11533</td>\n",
       "      <td>1195</td>\n",
       "      <td>96760</td>\n",
       "      <td>5</td>\n",
       "      <td>884</td>\n",
       "    </tr>\n",
       "    <tr>\n",
       "      <th>71</th>\n",
       "      <td>71</td>\n",
       "      <td>owncloud/core</td>\n",
       "      <td>44063</td>\n",
       "      <td>4064</td>\n",
       "      <td>409283</td>\n",
       "      <td>5</td>\n",
       "      <td>671</td>\n",
       "    </tr>\n",
       "    <tr>\n",
       "      <th>84</th>\n",
       "      <td>84</td>\n",
       "      <td>symfony/process</td>\n",
       "      <td>1529</td>\n",
       "      <td>29</td>\n",
       "      <td>3204</td>\n",
       "      <td>4</td>\n",
       "      <td>170</td>\n",
       "    </tr>\n",
       "    <tr>\n",
       "      <th>4</th>\n",
       "      <td>4</td>\n",
       "      <td>symfony/symfony</td>\n",
       "      <td>50818</td>\n",
       "      <td>5692</td>\n",
       "      <td>422077</td>\n",
       "      <td>3</td>\n",
       "      <td>3119</td>\n",
       "    </tr>\n",
       "    <tr>\n",
       "      <th>15</th>\n",
       "      <td>15</td>\n",
       "      <td>matomo-org/matomo</td>\n",
       "      <td>26847</td>\n",
       "      <td>3685</td>\n",
       "      <td>393603</td>\n",
       "      <td>3</td>\n",
       "      <td>367</td>\n",
       "    </tr>\n",
       "  </tbody>\n",
       "</table>\n",
       "</div>"
      ],
      "text/plain": [
       "    Index         Repositories  Commits  Files     LOC  TF  Devs\n",
       "2       2     fzaninotto/Faker     2614    588  106614  13   540\n",
       "13     13  WordPress/WordPress    42351   1507  510877  10   102\n",
       "33     33     nextcloud/server    55210   5518  523794   6   949\n",
       "14     14         yiisoft/yii2    19395   1046  118894   5  1446\n",
       "58     58      symfony/console     3087    211   18094   5   355\n",
       "60     60         doctrine/orm    11533   1195   96760   5   884\n",
       "71     71        owncloud/core    44063   4064  409283   5   671\n",
       "84     84      symfony/process     1529     29    3204   4   170\n",
       "4       4      symfony/symfony    50818   5692  422077   3  3119\n",
       "15     15    matomo-org/matomo    26847   3685  393603   3   367"
      ]
     },
     "execution_count": 13,
     "metadata": {},
     "output_type": "execute_result"
    }
   ],
   "source": [
    "php.nlargest(10, \"TF\")"
   ]
  },
  {
   "cell_type": "code",
   "execution_count": 6,
   "metadata": {},
   "outputs": [
    {
     "ename": "NameError",
     "evalue": "name 'results' is not defined",
     "output_type": "error",
     "traceback": [
      "\u001b[0;31m---------------------------------------------------------------------------\u001b[0m",
      "\u001b[0;31mNameError\u001b[0m                                 Traceback (most recent call last)",
      "\u001b[0;32m<ipython-input-6-07ed296354dd>\u001b[0m in \u001b[0;36m<module>\u001b[0;34m\u001b[0m\n\u001b[0;32m----> 1\u001b[0;31m \u001b[0mresults\u001b[0m\u001b[0;34m.\u001b[0m\u001b[0mnlargest\u001b[0m\u001b[0;34m(\u001b[0m\u001b[0;36m50\u001b[0m\u001b[0;34m,\u001b[0m \u001b[0;34m\"TF\"\u001b[0m\u001b[0;34m)\u001b[0m\u001b[0;34m\u001b[0m\u001b[0;34m\u001b[0m\u001b[0m\n\u001b[0m",
      "\u001b[0;31mNameError\u001b[0m: name 'results' is not defined"
     ]
    }
   ],
   "source": [
    "results.nlargest(50, \"TF\")"
   ]
  },
  {
   "cell_type": "code",
   "execution_count": 7,
   "metadata": {},
   "outputs": [
    {
     "data": {
      "text/plain": [
       "[['758f598de8d6024db3fa8ee7d0a1fc3e45c50f53', 1273269817],\n",
       " ['d2dc83538379e9e1fafb94f5698c56b4a5318d8d', 1335125795],\n",
       " ['e86377c0c1e7695c3997f7802175ca37f5a5113b', 1396552261],\n",
       " ['c163360217597867c2fdacd16e602a55e25a19f1', 1458945433],\n",
       " ['cfd230708c5a0a5c09935d5f1074f43de6e9c010', 1520325963]]"
      ]
     },
     "execution_count": 7,
     "metadata": {},
     "output_type": "execute_result"
    }
   ],
   "source": [
    "log = pd.read_csv(\"data/log.csv\", names=[\"Hash\",\"Unix\"])\n",
    "indice = len(log) - 1\n",
    "log[\"Relative\"] = log[\"Unix\"] - log[\"Unix\"][indice]\n",
    "idade = log[\"Relative\"][0]\n",
    "decimo = math.floor(idade/5)\n",
    "var = decimo\n",
    "array = log[\"Relative\"].to_numpy()\n",
    "array = array[::-1]\n",
    "lista = [[log[\"Hash\"][indice], log[\"Unix\"][indice]]]\n",
    "\n",
    "for x in range(4):\n",
    "    res = next(y for y, val in enumerate(array) if val > var)\n",
    "    res = indice - res\n",
    "    var = var + decimo\n",
    "    lista.append([log[\"Hash\"][res], log[\"Unix\"][res]])\n",
    "    \n",
    "lista"
   ]
  },
  {
   "cell_type": "code",
   "execution_count": null,
   "metadata": {},
   "outputs": [],
   "source": []
  }
 ],
 "metadata": {
  "kernelspec": {
   "display_name": "Python 3",
   "language": "python",
   "name": "python3"
  },
  "language_info": {
   "codemirror_mode": {
    "name": "ipython",
    "version": 3
   },
   "file_extension": ".py",
   "mimetype": "text/x-python",
   "name": "python",
   "nbconvert_exporter": "python",
   "pygments_lexer": "ipython3",
   "version": "3.8.5"
  }
 },
 "nbformat": 4,
 "nbformat_minor": 4
}
