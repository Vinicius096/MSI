{
 "cells": [
  {
   "cell_type": "code",
   "execution_count": 1,
   "metadata": {},
   "outputs": [],
   "source": [
    "from matplotlib import pyplot as plt\n",
    "import pandas as pd\n",
    "import numpy as np\n",
    "import math\n"
   ]
  },
  {
   "cell_type": "code",
   "execution_count": null,
   "metadata": {},
   "outputs": [],
   "source": [
    "javascript = pd.read_csv(\"results/javascript.csv\")\n",
    "java = pd.read_csv(\"results/java.csv\")\n",
    "cplusplus = pd.read_csv(\"results/cplusplus.csv\")\n",
    "python = pd.read_csv(\"results/python.csv\")\n",
    "php = pd.read_csv(\"results/php.csv\")\n",
    "results = pd.read_csv(\"results/results.csv\")"
   ]
  },
  {
   "cell_type": "code",
   "execution_count": null,
   "metadata": {},
   "outputs": [],
   "source": [
    "names = ['Javascript', 'Java', 'Cplusplus', 'Python', 'PHP']\n",
    "data1 = [javascript['Commits'], java['Commits'], cplusplus['Commits'], python['Commits'], php['Commits']]\n",
    "\n",
    "fig1 = plt.figure(1, figsize=(9,7))\n",
    "plt.title('Commits')\n",
    "ax1 = fig1.add_subplot(111)\n",
    "ax1.set_xticklabels(names)\n",
    "box1 = ax1.boxplot(data1)\n",
    "fig1.savefig('data/boxplot/Commits.png', bbox_inches='tight')\n"
   ]
  },
  {
   "cell_type": "code",
   "execution_count": null,
   "metadata": {},
   "outputs": [],
   "source": [
    "names = ['Javascript', 'Java', 'Cplusplus', 'Python', 'PHP']\n",
    "data2 = [javascript['Files'], java['Files'], cplusplus['Files'], python['Files'], php['Files']]\n",
    "\n",
    "fig2 = plt.figure(1, figsize=(9,7))\n",
    "plt.title('Files')\n",
    "ax2 = fig2.add_subplot(111)\n",
    "ax2.set_xticklabels(names)\n",
    "box2 = ax2.boxplot(data2)\n",
    "fig2.savefig('data/boxplot/Files.png', bbox_inches='tight')\n"
   ]
  },
  {
   "cell_type": "code",
   "execution_count": null,
   "metadata": {},
   "outputs": [],
   "source": [
    "names = ['Javascript', 'Java', 'Cplusplus', 'Python', 'PHP']\n",
    "data3 = [javascript['LOC'], java['LOC'], cplusplus['LOC'], python['LOC'], php['LOC']]\n",
    "\n",
    "fig3 = plt.figure(1, figsize=(9,7))\n",
    "plt.title('Lines of Code')\n",
    "ax3 = fig3.add_subplot(111)\n",
    "ax3.set_xticklabels(names)\n",
    "box3 = ax3.boxplot(data3)\n",
    "fig3.savefig('data/boxplot/LOC.png', bbox_inches='tight')\n"
   ]
  },
  {
   "cell_type": "code",
   "execution_count": null,
   "metadata": {},
   "outputs": [],
   "source": [
    "names = ['Javascript', 'Java', 'Cplusplus', 'Python', 'PHP']\n",
    "data4 = [javascript['TF'], java['TF'], cplusplus['TF'], python['TF'], php['TF']]\n",
    "\n",
    "fig4 = plt.figure(1, figsize=(9,7))\n",
    "plt.title('Truck Factor')\n",
    "ax4 = fig4.add_subplot(111)\n",
    "ax4.set_xticklabels(names)\n",
    "box4 = ax4.boxplot(data4)\n",
    "fig4.savefig('data/boxplot/TF.png', bbox_inches='tight')\n"
   ]
  },
  {
   "cell_type": "code",
   "execution_count": null,
   "metadata": {},
   "outputs": [],
   "source": [
    "names = ['Javascript', 'Java', 'Cplusplus', 'Python', 'PHP']\n",
    "data5 = [javascript['Devs'], java['Devs'], cplusplus['Devs'], python['Devs'], php['Devs']]\n",
    "\n",
    "fig5 = plt.figure(1, figsize=(9,7))\n",
    "plt.title('Contributors')\n",
    "ax5 = fig5.add_subplot(111)\n",
    "ax5.set_xticklabels(names)\n",
    "box5 = ax5.boxplot(data5)\n",
    "fig5.savefig('data/boxplot/Devs.png', bbox_inches='tight')\n"
   ]
  },
  {
   "cell_type": "code",
   "execution_count": null,
   "metadata": {},
   "outputs": [],
   "source": [
    "javascript_commits = javascript['Commits']\n",
    "javascript_TF = javascript['TF']\n",
    "\n",
    "fig6 = plt.figure(1, figsize=(8,8))\n",
    "plt.title('Javascript')\n",
    "plt.xlabel('Commits')\n",
    "plt.ylabel('Truck Factor')\n",
    "plt.scatter(javascript_commits, javascript_TF)\n",
    "fig6.savefig('data/scatter/javascript_Commits_TF.png', bbox_inches='tight')"
   ]
  },
  {
   "cell_type": "code",
   "execution_count": null,
   "metadata": {},
   "outputs": [],
   "source": [
    "javascript_files = javascript['Files']\n",
    "javascript_TF = javascript['TF']\n",
    "\n",
    "fig7 = plt.figure(1, figsize=(8,8))\n",
    "plt.title('Javascript')\n",
    "plt.xlabel('Files')\n",
    "plt.ylabel('Truck Factor')\n",
    "plt.scatter(javascript_files, javascript_TF)\n",
    "fig7.savefig('data/scatter/javascript_Files_TF.png', bbox_inches='tight')"
   ]
  },
  {
   "cell_type": "code",
   "execution_count": null,
   "metadata": {},
   "outputs": [],
   "source": [
    "javascript_LOC = javascript['LOC']\n",
    "javascript_TF = javascript['TF']\n",
    "\n",
    "fig8 = plt.figure(1, figsize=(8,8))\n",
    "plt.title('Javascript')\n",
    "plt.xlabel('Lines of Code')\n",
    "plt.ylabel('Truck Factor')\n",
    "plt.scatter(javascript_LOC, javascript_TF)\n",
    "fig8.savefig('data/scatter/javascript_LOC_TF.png', bbox_inches='tight')"
   ]
  },
  {
   "cell_type": "code",
   "execution_count": null,
   "metadata": {},
   "outputs": [],
   "source": [
    "javascript_devs = javascript['Devs']\n",
    "javascript_TF = javascript['TF']\n",
    "\n",
    "fig9 = plt.figure(1, figsize=(8,8))\n",
    "plt.title('Javascript')\n",
    "plt.xlabel('Contributors')\n",
    "plt.ylabel('Truck Factor')\n",
    "plt.scatter(javascript_devs, javascript_TF)\n",
    "fig9.savefig('data/scatter/javascript_Devs_TF.png', bbox_inches='tight')"
   ]
  },
  {
   "cell_type": "code",
   "execution_count": null,
   "metadata": {},
   "outputs": [],
   "source": [
    "java_commits = java['Commits']\n",
    "java_TF = java['TF']\n",
    "\n",
    "fig10 = plt.figure(1, figsize=(8,8))\n",
    "plt.title('Java')\n",
    "plt.xlabel('Commits')\n",
    "plt.ylabel('Truck Factor')\n",
    "plt.scatter(java_commits, java_TF)\n",
    "fig10.savefig('data/scatter/java_Commits_TF.png', bbox_inches='tight')"
   ]
  },
  {
   "cell_type": "code",
   "execution_count": null,
   "metadata": {},
   "outputs": [],
   "source": [
    "java_files = java['Files']\n",
    "java_TF = java['TF']\n",
    "\n",
    "fig11 = plt.figure(1, figsize=(8,8))\n",
    "plt.title('Java')\n",
    "plt.xlabel('Files')\n",
    "plt.ylabel('Truck Factor')\n",
    "plt.scatter(java_files, java_TF)\n",
    "fig11.savefig('data/scatter/java_Files_TF.png', bbox_inches='tight')"
   ]
  },
  {
   "cell_type": "code",
   "execution_count": null,
   "metadata": {},
   "outputs": [],
   "source": [
    "java_LOC = java['LOC']\n",
    "java_TF = java['TF']\n",
    "\n",
    "fig12 = plt.figure(1, figsize=(8,8))\n",
    "plt.title('Java')\n",
    "plt.xlabel('Lines of Code')\n",
    "plt.ylabel('Truck Factor')\n",
    "plt.scatter(java_LOC, java_TF)\n",
    "fig12.savefig('data/scatter/java_LOC_TF.png', bbox_inches='tight')"
   ]
  },
  {
   "cell_type": "code",
   "execution_count": null,
   "metadata": {},
   "outputs": [],
   "source": [
    "java_devs = java['Devs']\n",
    "java_TF = java['TF']\n",
    "\n",
    "fig13 = plt.figure(1, figsize=(8,8))\n",
    "plt.title('Java')\n",
    "plt.xlabel('Contributors')\n",
    "plt.ylabel('Truck Factor')\n",
    "plt.scatter(java_devs, java_TF)\n",
    "fig13.savefig('data/scatter/java_Devs_TF.png', bbox_inches='tight')"
   ]
  },
  {
   "cell_type": "code",
   "execution_count": null,
   "metadata": {},
   "outputs": [],
   "source": [
    "cplusplus_commits = cplusplus['Commits']\n",
    "cplusplus_TF = cplusplus['TF']\n",
    "\n",
    "fig14 = plt.figure(1, figsize=(8,8))\n",
    "plt.title('C++')\n",
    "plt.xlabel('Commits')\n",
    "plt.ylabel('Truck Factor')\n",
    "plt.scatter(cplusplus_commits, cplusplus_TF)\n",
    "fig14.savefig('data/scatter/cplusplus_Commits_TF.png', bbox_inches='tight')"
   ]
  },
  {
   "cell_type": "code",
   "execution_count": null,
   "metadata": {},
   "outputs": [],
   "source": [
    "cplusplus_files = cplusplus['Files']\n",
    "cplusplus_TF = cplusplus['TF']\n",
    "\n",
    "fig15 = plt.figure(1, figsize=(8,8))\n",
    "plt.title('C++')\n",
    "plt.xlabel('Files')\n",
    "plt.ylabel('Truck Factor')\n",
    "plt.scatter(cplusplus_files, cplusplus_TF)\n",
    "fig15.savefig('data/scatter/cplusplus_Files_TF.png', bbox_inches='tight')"
   ]
  },
  {
   "cell_type": "code",
   "execution_count": null,
   "metadata": {},
   "outputs": [],
   "source": [
    "cplusplus_LOC = cplusplus['LOC']\n",
    "cplusplus_TF = cplusplus['TF']\n",
    "\n",
    "fig16 = plt.figure(1, figsize=(8,8))\n",
    "plt.title('C++')\n",
    "plt.xlabel('Lines of Code')\n",
    "plt.ylabel('Truck Factor')\n",
    "plt.scatter(cplusplus_LOC, cplusplus_TF)\n",
    "fig16.savefig('data/scatter/cplusplus_LOC_TF.png', bbox_inches='tight')"
   ]
  },
  {
   "cell_type": "code",
   "execution_count": null,
   "metadata": {},
   "outputs": [],
   "source": [
    "cplusplus_devs = cplusplus['Devs']\n",
    "cplusplus_TF = cplusplus['TF']\n",
    "\n",
    "fig17 = plt.figure(1, figsize=(8,8))\n",
    "plt.title('C++')\n",
    "plt.xlabel('Contributors')\n",
    "plt.ylabel('Truck Factor')\n",
    "plt.scatter(cplusplus_devs, cplusplus_TF)\n",
    "fig17.savefig('data/scatter/cplusplus_Devs_TF.png', bbox_inches='tight')"
   ]
  },
  {
   "cell_type": "code",
   "execution_count": null,
   "metadata": {},
   "outputs": [],
   "source": [
    "python_commits = python['Commits']\n",
    "python_TF = python['TF']\n",
    "\n",
    "fig18 = plt.figure(1, figsize=(8,8))\n",
    "plt.title('Python')\n",
    "plt.xlabel('Commits')\n",
    "plt.ylabel('Truck Factor')\n",
    "plt.scatter(python_commits, python_TF)\n",
    "fig18.savefig('data/scatter/python_Commits_TF.png', bbox_inches='tight')"
   ]
  },
  {
   "cell_type": "code",
   "execution_count": null,
   "metadata": {},
   "outputs": [],
   "source": [
    "python_files = python['Files']\n",
    "python_TF = python['TF']\n",
    "\n",
    "fig19 = plt.figure(1, figsize=(8,8))\n",
    "plt.title('Python')\n",
    "plt.xlabel('Files')\n",
    "plt.ylabel('Truck Factor')\n",
    "plt.scatter(python_files, python_TF)\n",
    "fig19.savefig('data/scatter/python_Files_TF.png', bbox_inches='tight')"
   ]
  },
  {
   "cell_type": "code",
   "execution_count": null,
   "metadata": {},
   "outputs": [],
   "source": [
    "python_LOC = python['LOC']\n",
    "python_TF = python['TF']\n",
    "\n",
    "fig20 = plt.figure(1, figsize=(8,8))\n",
    "plt.title('Python')\n",
    "plt.xlabel('Lines of Code')\n",
    "plt.ylabel('Truck Factor')\n",
    "plt.scatter(python_LOC, python_TF)\n",
    "fig20.savefig('data/scatter/python_LOC_TF.png', bbox_inches='tight')"
   ]
  },
  {
   "cell_type": "code",
   "execution_count": null,
   "metadata": {},
   "outputs": [],
   "source": [
    "python_devs = python['Devs']\n",
    "python_TF = python['TF']\n",
    "\n",
    "fig21 = plt.figure(1, figsize=(8,8))\n",
    "plt.title('Python')\n",
    "plt.xlabel('Contributors')\n",
    "plt.ylabel('Truck Factor')\n",
    "plt.scatter(python_devs, python_TF)\n",
    "fig21.savefig('data/scatter/python_Devs_TF.png', bbox_inches='tight')"
   ]
  },
  {
   "cell_type": "code",
   "execution_count": null,
   "metadata": {},
   "outputs": [],
   "source": [
    "php_commits = php['Commits']\n",
    "php_TF = php['TF']\n",
    "\n",
    "fig22 = plt.figure(1, figsize=(8,8))\n",
    "plt.title('PhP')\n",
    "plt.xlabel('Commits')\n",
    "plt.ylabel('Truck Factor')\n",
    "plt.scatter(php_commits, php_TF)\n",
    "fig22.savefig('data/scatter/php_Commits_TF.png', bbox_inches='tight')"
   ]
  },
  {
   "cell_type": "code",
   "execution_count": null,
   "metadata": {},
   "outputs": [],
   "source": [
    "php_files = php['Files']\n",
    "php_TF = php['TF']\n",
    "\n",
    "fig23 = plt.figure(1, figsize=(8,8))\n",
    "plt.title('PhP')\n",
    "plt.xlabel('Files')\n",
    "plt.ylabel('Truck Factor')\n",
    "plt.scatter(php_files, php_TF)\n",
    "fig23.savefig('data/scatter/php_Files_TF.png', bbox_inches='tight')"
   ]
  },
  {
   "cell_type": "code",
   "execution_count": null,
   "metadata": {},
   "outputs": [],
   "source": [
    "php_LOC = php['LOC']\n",
    "php_TF = php['TF']\n",
    "\n",
    "fig24 = plt.figure(1, figsize=(8,8))\n",
    "plt.title('PhP')\n",
    "plt.xlabel('Lines of Code')\n",
    "plt.ylabel('Truck Factor')\n",
    "plt.scatter(php_LOC, php_TF)\n",
    "fig24.savefig('data/scatter/php_LOC_TF.png', bbox_inches='tight')"
   ]
  },
  {
   "cell_type": "code",
   "execution_count": null,
   "metadata": {},
   "outputs": [],
   "source": [
    "php_devs = php['Devs']\n",
    "php_TF = php['TF']\n",
    "\n",
    "fig25 = plt.figure(1, figsize=(8,8))\n",
    "plt.title('PhP')\n",
    "plt.xlabel('Contributors')\n",
    "plt.ylabel('Truck Factor')\n",
    "plt.scatter(php_devs, php_TF)\n",
    "fig25.savefig('data/scatter/php_Devs_TF.png', bbox_inches='tight')"
   ]
  },
  {
   "cell_type": "code",
   "execution_count": null,
   "metadata": {},
   "outputs": [],
   "source": [
    "results_commits = results['Commits']\n",
    "results_TF = results['TF']\n",
    "\n",
    "fig26 = plt.figure(1, figsize=(8,8))\n",
    "plt.title('Results')\n",
    "plt.xlabel('Commits')\n",
    "plt.ylabel('Truck Factor')\n",
    "plt.scatter(results_commits, results_TF)\n",
    "fig26.savefig('data/scatter/Results_Commits_TF.png', bbox_inches='tight')"
   ]
  },
  {
   "cell_type": "code",
   "execution_count": null,
   "metadata": {},
   "outputs": [],
   "source": [
    "results_files = results['Files']\n",
    "results_TF = results['TF']\n",
    "\n",
    "fig27 = plt.figure(1, figsize=(8,8))\n",
    "plt.title('Results')\n",
    "plt.xlabel('Files')\n",
    "plt.ylabel('Truck Factor')\n",
    "plt.scatter(results_files, results_TF)\n",
    "fig27.savefig('data/scatter/Results_Files_TF.png', bbox_inches='tight')"
   ]
  },
  {
   "cell_type": "code",
   "execution_count": null,
   "metadata": {},
   "outputs": [],
   "source": [
    "results_LOC = results['LOC']\n",
    "results_TF = results['TF']\n",
    "\n",
    "fig28 = plt.figure(1, figsize=(8,8))\n",
    "plt.title('Results')\n",
    "plt.xlabel('Lines of Code')\n",
    "plt.ylabel('Truck Factor')\n",
    "plt.scatter(results_LOC, results_TF)\n",
    "fig28.savefig('data/scatter/Results_LOC_TF.png', bbox_inches='tight')"
   ]
  },
  {
   "cell_type": "code",
   "execution_count": null,
   "metadata": {},
   "outputs": [],
   "source": [
    "results_devs = results['Devs']\n",
    "results_TF = results['TF']\n",
    "\n",
    "fig29 = plt.figure(1, figsize=(8,8))\n",
    "plt.title('Results')\n",
    "plt.xlabel('Contributors')\n",
    "plt.ylabel('Truck Factor')\n",
    "plt.scatter(results_devs, results_TF)\n",
    "fig29.savefig('data/scatter/Results_Devs_TF.png', bbox_inches='tight')"
   ]
  },
  {
   "cell_type": "code",
   "execution_count": null,
   "metadata": {},
   "outputs": [],
   "source": [
    "javascript[\"TF\"].mean()"
   ]
  },
  {
   "cell_type": "code",
   "execution_count": null,
   "metadata": {
    "scrolled": true
   },
   "outputs": [],
   "source": [
    "javascript[\"TF\"].median()"
   ]
  },
  {
   "cell_type": "code",
   "execution_count": null,
   "metadata": {},
   "outputs": [],
   "source": [
    "javascript[\"TF\"].var()"
   ]
  },
  {
   "cell_type": "code",
   "execution_count": null,
   "metadata": {},
   "outputs": [],
   "source": [
    "javascript[\"TF\"].std()"
   ]
  },
  {
   "cell_type": "code",
   "execution_count": null,
   "metadata": {},
   "outputs": [],
   "source": [
    "javascript.sort_values(by=[\"TF\"], ascending=False)"
   ]
  },
  {
   "cell_type": "code",
   "execution_count": null,
   "metadata": {},
   "outputs": [],
   "source": [
    "javascript.sort_values(by=[\"Commits\"], ascending=False)"
   ]
  },
  {
   "cell_type": "code",
   "execution_count": null,
   "metadata": {},
   "outputs": [],
   "source": [
    "javascript.sort_values(by=[\"Files\"], ascending=False)"
   ]
  },
  {
   "cell_type": "code",
   "execution_count": null,
   "metadata": {},
   "outputs": [],
   "source": [
    "javascript.sort_values(by=[\"LOC\"], ascending=False)"
   ]
  },
  {
   "cell_type": "code",
   "execution_count": null,
   "metadata": {},
   "outputs": [],
   "source": [
    "javascript.sort_values(by=[\"Devs\"], ascending=False)"
   ]
  },
  {
   "cell_type": "code",
   "execution_count": null,
   "metadata": {},
   "outputs": [],
   "source": [
    "java[\"TF\"].mean()"
   ]
  },
  {
   "cell_type": "code",
   "execution_count": null,
   "metadata": {},
   "outputs": [],
   "source": [
    "java[\"TF\"].median()"
   ]
  },
  {
   "cell_type": "code",
   "execution_count": null,
   "metadata": {},
   "outputs": [],
   "source": [
    "java[\"TF\"].var()"
   ]
  },
  {
   "cell_type": "code",
   "execution_count": null,
   "metadata": {},
   "outputs": [],
   "source": [
    "java[\"TF\"].std()"
   ]
  },
  {
   "cell_type": "code",
   "execution_count": null,
   "metadata": {},
   "outputs": [],
   "source": [
    "java.sort_values(by=[\"TF\"], ascending=False)"
   ]
  },
  {
   "cell_type": "code",
   "execution_count": null,
   "metadata": {},
   "outputs": [],
   "source": [
    "java.sort_values(by=[\"Commits\"], ascending=False)"
   ]
  },
  {
   "cell_type": "code",
   "execution_count": null,
   "metadata": {},
   "outputs": [],
   "source": [
    "java.sort_values(by=[\"Files\"], ascending=False)"
   ]
  },
  {
   "cell_type": "code",
   "execution_count": null,
   "metadata": {},
   "outputs": [],
   "source": [
    "java.sort_values(by=[\"LOC\"], ascending=False)"
   ]
  },
  {
   "cell_type": "code",
   "execution_count": null,
   "metadata": {},
   "outputs": [],
   "source": [
    "java.sort_values(by=[\"Devs\"], ascending=False)"
   ]
  },
  {
   "cell_type": "code",
   "execution_count": null,
   "metadata": {},
   "outputs": [],
   "source": [
    "cplusplus[\"TF\"].mean()"
   ]
  },
  {
   "cell_type": "code",
   "execution_count": null,
   "metadata": {},
   "outputs": [],
   "source": [
    "cplusplus[\"TF\"].median()"
   ]
  },
  {
   "cell_type": "code",
   "execution_count": null,
   "metadata": {},
   "outputs": [],
   "source": [
    "cplusplus[\"TF\"].var()"
   ]
  },
  {
   "cell_type": "code",
   "execution_count": null,
   "metadata": {},
   "outputs": [],
   "source": [
    "cplusplus[\"TF\"].std()"
   ]
  },
  {
   "cell_type": "code",
   "execution_count": null,
   "metadata": {},
   "outputs": [],
   "source": [
    "cplusplus.sort_values(by=[\"TF\"], ascending=False)"
   ]
  },
  {
   "cell_type": "code",
   "execution_count": null,
   "metadata": {},
   "outputs": [],
   "source": [
    "cplusplus.sort_values(by=[\"Commits\"], ascending=False)"
   ]
  },
  {
   "cell_type": "code",
   "execution_count": null,
   "metadata": {},
   "outputs": [],
   "source": [
    "cplusplus.sort_values(by=[\"Files\"], ascending=False)"
   ]
  },
  {
   "cell_type": "code",
   "execution_count": null,
   "metadata": {},
   "outputs": [],
   "source": [
    "cplusplus.sort_values(by=[\"LOC\"], ascending=False)"
   ]
  },
  {
   "cell_type": "code",
   "execution_count": null,
   "metadata": {},
   "outputs": [],
   "source": [
    "cplusplus.sort_values(by=[\"Devs\"], ascending=False)"
   ]
  },
  {
   "cell_type": "code",
   "execution_count": null,
   "metadata": {},
   "outputs": [],
   "source": [
    "python[\"TF\"].mean()"
   ]
  },
  {
   "cell_type": "code",
   "execution_count": null,
   "metadata": {},
   "outputs": [],
   "source": [
    "python[\"TF\"].median()"
   ]
  },
  {
   "cell_type": "code",
   "execution_count": null,
   "metadata": {},
   "outputs": [],
   "source": [
    "python[\"TF\"].var()"
   ]
  },
  {
   "cell_type": "code",
   "execution_count": null,
   "metadata": {},
   "outputs": [],
   "source": [
    "python[\"TF\"].std()"
   ]
  },
  {
   "cell_type": "code",
   "execution_count": null,
   "metadata": {},
   "outputs": [],
   "source": [
    "python.sort_values(by=[\"TF\"], ascending=False)"
   ]
  },
  {
   "cell_type": "code",
   "execution_count": null,
   "metadata": {},
   "outputs": [],
   "source": [
    "python.sort_values(by=[\"Commits\"], ascending=False)"
   ]
  },
  {
   "cell_type": "code",
   "execution_count": null,
   "metadata": {},
   "outputs": [],
   "source": [
    "python.sort_values(by=[\"Files\"], ascending=False)"
   ]
  },
  {
   "cell_type": "code",
   "execution_count": null,
   "metadata": {},
   "outputs": [],
   "source": [
    "python.sort_values(by=[\"LOC\"], ascending=False)"
   ]
  },
  {
   "cell_type": "code",
   "execution_count": null,
   "metadata": {},
   "outputs": [],
   "source": [
    "python.sort_values(by=[\"Devs\"], ascending=False)"
   ]
  },
  {
   "cell_type": "code",
   "execution_count": null,
   "metadata": {},
   "outputs": [],
   "source": [
    "php[\"TF\"].mean()"
   ]
  },
  {
   "cell_type": "code",
   "execution_count": null,
   "metadata": {},
   "outputs": [],
   "source": [
    "php[\"TF\"].median()"
   ]
  },
  {
   "cell_type": "code",
   "execution_count": null,
   "metadata": {},
   "outputs": [],
   "source": [
    "php[\"TF\"].var()"
   ]
  },
  {
   "cell_type": "code",
   "execution_count": null,
   "metadata": {},
   "outputs": [],
   "source": [
    "php[\"TF\"].std()"
   ]
  },
  {
   "cell_type": "code",
   "execution_count": null,
   "metadata": {},
   "outputs": [],
   "source": [
    "php.sort_values(by=[\"TF\"], ascending=False)"
   ]
  },
  {
   "cell_type": "code",
   "execution_count": null,
   "metadata": {},
   "outputs": [],
   "source": [
    "php.sort_values(by=[\"Commits\"], ascending=False)"
   ]
  },
  {
   "cell_type": "code",
   "execution_count": null,
   "metadata": {},
   "outputs": [],
   "source": [
    "php.sort_values(by=[\"Files\"], ascending=False)"
   ]
  },
  {
   "cell_type": "code",
   "execution_count": null,
   "metadata": {},
   "outputs": [],
   "source": [
    "php.sort_values(by=[\"LOC\"], ascending=False)"
   ]
  },
  {
   "cell_type": "code",
   "execution_count": null,
   "metadata": {},
   "outputs": [],
   "source": [
    "php.sort_values(by=[\"Devs\"], ascending=False)"
   ]
  },
  {
   "cell_type": "code",
   "execution_count": null,
   "metadata": {},
   "outputs": [],
   "source": [
    "results.nlargest(25, \"TF\")"
   ]
  },
  {
   "cell_type": "code",
   "execution_count": null,
   "metadata": {},
   "outputs": [],
   "source": [
    "results.nlargest(100, \"TF\")"
   ]
  },
  {
   "cell_type": "code",
   "execution_count": null,
   "metadata": {},
   "outputs": [],
   "source": [
    "results[\"LOC\"].mean()"
   ]
  },
  {
   "cell_type": "code",
   "execution_count": null,
   "metadata": {},
   "outputs": [],
   "source": [
    "results[\"Devs\"].mean()"
   ]
  },
  {
   "cell_type": "code",
   "execution_count": null,
   "metadata": {},
   "outputs": [],
   "source": [
    "results[\"Devs\"].median()"
   ]
  },
  {
   "cell_type": "code",
   "execution_count": null,
   "metadata": {},
   "outputs": [],
   "source": [
    "results[\"LOC\"].var()"
   ]
  },
  {
   "cell_type": "code",
   "execution_count": null,
   "metadata": {},
   "outputs": [],
   "source": [
    "results[\"LOC\"].std()"
   ]
  },
  {
   "cell_type": "code",
   "execution_count": null,
   "metadata": {},
   "outputs": [],
   "source": [
    "javascript.nlargest(10, \"TF\")"
   ]
  },
  {
   "cell_type": "code",
   "execution_count": null,
   "metadata": {},
   "outputs": [],
   "source": [
    "java.nlargest(10, \"TF\")"
   ]
  },
  {
   "cell_type": "code",
   "execution_count": null,
   "metadata": {},
   "outputs": [],
   "source": [
    "cplusplus.nlargest(10, \"TF\")"
   ]
  },
  {
   "cell_type": "code",
   "execution_count": null,
   "metadata": {},
   "outputs": [],
   "source": [
    "python.nlargest(10, \"TF\")"
   ]
  },
  {
   "cell_type": "code",
   "execution_count": null,
   "metadata": {},
   "outputs": [],
   "source": [
    "php.nlargest(10, \"TF\")"
   ]
  },
  {
   "cell_type": "code",
   "execution_count": null,
   "metadata": {},
   "outputs": [],
   "source": [
    "results.nlargest(50, \"TF\")"
   ]
  },
  {
   "cell_type": "code",
   "execution_count": 2,
   "metadata": {},
   "outputs": [
    {
     "data": {
      "text/html": [
       "<div>\n",
       "<style scoped>\n",
       "    .dataframe tbody tr th:only-of-type {\n",
       "        vertical-align: middle;\n",
       "    }\n",
       "\n",
       "    .dataframe tbody tr th {\n",
       "        vertical-align: top;\n",
       "    }\n",
       "\n",
       "    .dataframe thead th {\n",
       "        text-align: right;\n",
       "    }\n",
       "</style>\n",
       "<table border=\"1\" class=\"dataframe\">\n",
       "  <thead>\n",
       "    <tr style=\"text-align: right;\">\n",
       "      <th></th>\n",
       "      <th>Hash</th>\n",
       "      <th>Unix</th>\n",
       "    </tr>\n",
       "  </thead>\n",
       "  <tbody>\n",
       "    <tr>\n",
       "      <th>0</th>\n",
       "      <td>3c0cddc7c8eb60b470e9519da85896ed7ee0081e</td>\n",
       "      <td>1581464386</td>\n",
       "    </tr>\n",
       "    <tr>\n",
       "      <th>1</th>\n",
       "      <td>aded7e4f8e57f6f33cf39d65634bfb822bfcb2c8</td>\n",
       "      <td>1581438802</td>\n",
       "    </tr>\n",
       "    <tr>\n",
       "      <th>2</th>\n",
       "      <td>212570b6971a732b8dd9f3c73354bcdda158a737</td>\n",
       "      <td>1559159600</td>\n",
       "    </tr>\n",
       "    <tr>\n",
       "      <th>3</th>\n",
       "      <td>b3a218dc7b5689ce25be171e047f0d4f0eef8919</td>\n",
       "      <td>1554337835</td>\n",
       "    </tr>\n",
       "    <tr>\n",
       "      <th>4</th>\n",
       "      <td>b0e9abb2f21a47783f96a8a408acc22ec51c1824</td>\n",
       "      <td>1554126361</td>\n",
       "    </tr>\n",
       "    <tr>\n",
       "      <th>...</th>\n",
       "      <td>...</td>\n",
       "      <td>...</td>\n",
       "    </tr>\n",
       "    <tr>\n",
       "      <th>2265</th>\n",
       "      <td>e7e37ad537081a040ea3e527aac23ae859b40b2c</td>\n",
       "      <td>1274293975</td>\n",
       "    </tr>\n",
       "    <tr>\n",
       "      <th>2266</th>\n",
       "      <td>ab969931106b10b5f8658dc9e0f512c5dfc2a7da</td>\n",
       "      <td>1273270511</td>\n",
       "    </tr>\n",
       "    <tr>\n",
       "      <th>2267</th>\n",
       "      <td>12a4cb88b949cb4a81d51189d432c25c08522a87</td>\n",
       "      <td>1273270119</td>\n",
       "    </tr>\n",
       "    <tr>\n",
       "      <th>2268</th>\n",
       "      <td>104cc94839d4b71aaf3681142daefba7ace78c94</td>\n",
       "      <td>1273269896</td>\n",
       "    </tr>\n",
       "    <tr>\n",
       "      <th>2269</th>\n",
       "      <td>758f598de8d6024db3fa8ee7d0a1fc3e45c50f53</td>\n",
       "      <td>1273269817</td>\n",
       "    </tr>\n",
       "  </tbody>\n",
       "</table>\n",
       "<p>2270 rows × 2 columns</p>\n",
       "</div>"
      ],
      "text/plain": [
       "                                          Hash        Unix\n",
       "0     3c0cddc7c8eb60b470e9519da85896ed7ee0081e  1581464386\n",
       "1     aded7e4f8e57f6f33cf39d65634bfb822bfcb2c8  1581438802\n",
       "2     212570b6971a732b8dd9f3c73354bcdda158a737  1559159600\n",
       "3     b3a218dc7b5689ce25be171e047f0d4f0eef8919  1554337835\n",
       "4     b0e9abb2f21a47783f96a8a408acc22ec51c1824  1554126361\n",
       "...                                        ...         ...\n",
       "2265  e7e37ad537081a040ea3e527aac23ae859b40b2c  1274293975\n",
       "2266  ab969931106b10b5f8658dc9e0f512c5dfc2a7da  1273270511\n",
       "2267  12a4cb88b949cb4a81d51189d432c25c08522a87  1273270119\n",
       "2268  104cc94839d4b71aaf3681142daefba7ace78c94  1273269896\n",
       "2269  758f598de8d6024db3fa8ee7d0a1fc3e45c50f53  1273269817\n",
       "\n",
       "[2270 rows x 2 columns]"
      ]
     },
     "execution_count": 2,
     "metadata": {},
     "output_type": "execute_result"
    }
   ],
   "source": [
    "log = pd.read_csv(\"data/log.csv\", names=[\"Hash\",\"Unix\"])\n",
    "log"
   ]
  },
  {
   "cell_type": "code",
   "execution_count": 3,
   "metadata": {},
   "outputs": [
    {
     "data": {
      "text/plain": [
       "1273269817"
      ]
     },
     "execution_count": 3,
     "metadata": {},
     "output_type": "execute_result"
    }
   ],
   "source": [
    "indice = len(log) - 1\n",
    "log[\"Unix\"][indice]"
   ]
  },
  {
   "cell_type": "code",
   "execution_count": 4,
   "metadata": {},
   "outputs": [
    {
     "data": {
      "text/html": [
       "<div>\n",
       "<style scoped>\n",
       "    .dataframe tbody tr th:only-of-type {\n",
       "        vertical-align: middle;\n",
       "    }\n",
       "\n",
       "    .dataframe tbody tr th {\n",
       "        vertical-align: top;\n",
       "    }\n",
       "\n",
       "    .dataframe thead th {\n",
       "        text-align: right;\n",
       "    }\n",
       "</style>\n",
       "<table border=\"1\" class=\"dataframe\">\n",
       "  <thead>\n",
       "    <tr style=\"text-align: right;\">\n",
       "      <th></th>\n",
       "      <th>Hash</th>\n",
       "      <th>Unix</th>\n",
       "      <th>Relative</th>\n",
       "    </tr>\n",
       "  </thead>\n",
       "  <tbody>\n",
       "    <tr>\n",
       "      <th>0</th>\n",
       "      <td>3c0cddc7c8eb60b470e9519da85896ed7ee0081e</td>\n",
       "      <td>1581464386</td>\n",
       "      <td>308194569</td>\n",
       "    </tr>\n",
       "    <tr>\n",
       "      <th>1</th>\n",
       "      <td>aded7e4f8e57f6f33cf39d65634bfb822bfcb2c8</td>\n",
       "      <td>1581438802</td>\n",
       "      <td>308168985</td>\n",
       "    </tr>\n",
       "    <tr>\n",
       "      <th>2</th>\n",
       "      <td>212570b6971a732b8dd9f3c73354bcdda158a737</td>\n",
       "      <td>1559159600</td>\n",
       "      <td>285889783</td>\n",
       "    </tr>\n",
       "    <tr>\n",
       "      <th>3</th>\n",
       "      <td>b3a218dc7b5689ce25be171e047f0d4f0eef8919</td>\n",
       "      <td>1554337835</td>\n",
       "      <td>281068018</td>\n",
       "    </tr>\n",
       "    <tr>\n",
       "      <th>4</th>\n",
       "      <td>b0e9abb2f21a47783f96a8a408acc22ec51c1824</td>\n",
       "      <td>1554126361</td>\n",
       "      <td>280856544</td>\n",
       "    </tr>\n",
       "    <tr>\n",
       "      <th>...</th>\n",
       "      <td>...</td>\n",
       "      <td>...</td>\n",
       "      <td>...</td>\n",
       "    </tr>\n",
       "    <tr>\n",
       "      <th>2265</th>\n",
       "      <td>e7e37ad537081a040ea3e527aac23ae859b40b2c</td>\n",
       "      <td>1274293975</td>\n",
       "      <td>1024158</td>\n",
       "    </tr>\n",
       "    <tr>\n",
       "      <th>2266</th>\n",
       "      <td>ab969931106b10b5f8658dc9e0f512c5dfc2a7da</td>\n",
       "      <td>1273270511</td>\n",
       "      <td>694</td>\n",
       "    </tr>\n",
       "    <tr>\n",
       "      <th>2267</th>\n",
       "      <td>12a4cb88b949cb4a81d51189d432c25c08522a87</td>\n",
       "      <td>1273270119</td>\n",
       "      <td>302</td>\n",
       "    </tr>\n",
       "    <tr>\n",
       "      <th>2268</th>\n",
       "      <td>104cc94839d4b71aaf3681142daefba7ace78c94</td>\n",
       "      <td>1273269896</td>\n",
       "      <td>79</td>\n",
       "    </tr>\n",
       "    <tr>\n",
       "      <th>2269</th>\n",
       "      <td>758f598de8d6024db3fa8ee7d0a1fc3e45c50f53</td>\n",
       "      <td>1273269817</td>\n",
       "      <td>0</td>\n",
       "    </tr>\n",
       "  </tbody>\n",
       "</table>\n",
       "<p>2270 rows × 3 columns</p>\n",
       "</div>"
      ],
      "text/plain": [
       "                                          Hash        Unix   Relative\n",
       "0     3c0cddc7c8eb60b470e9519da85896ed7ee0081e  1581464386  308194569\n",
       "1     aded7e4f8e57f6f33cf39d65634bfb822bfcb2c8  1581438802  308168985\n",
       "2     212570b6971a732b8dd9f3c73354bcdda158a737  1559159600  285889783\n",
       "3     b3a218dc7b5689ce25be171e047f0d4f0eef8919  1554337835  281068018\n",
       "4     b0e9abb2f21a47783f96a8a408acc22ec51c1824  1554126361  280856544\n",
       "...                                        ...         ...        ...\n",
       "2265  e7e37ad537081a040ea3e527aac23ae859b40b2c  1274293975    1024158\n",
       "2266  ab969931106b10b5f8658dc9e0f512c5dfc2a7da  1273270511        694\n",
       "2267  12a4cb88b949cb4a81d51189d432c25c08522a87  1273270119        302\n",
       "2268  104cc94839d4b71aaf3681142daefba7ace78c94  1273269896         79\n",
       "2269  758f598de8d6024db3fa8ee7d0a1fc3e45c50f53  1273269817          0\n",
       "\n",
       "[2270 rows x 3 columns]"
      ]
     },
     "execution_count": 4,
     "metadata": {},
     "output_type": "execute_result"
    }
   ],
   "source": [
    "log[\"Relative\"] = log[\"Unix\"] - log[\"Unix\"][indice]\n",
    "log"
   ]
  },
  {
   "cell_type": "code",
   "execution_count": 5,
   "metadata": {},
   "outputs": [
    {
     "data": {
      "text/plain": [
       "30819456"
      ]
     },
     "execution_count": 5,
     "metadata": {},
     "output_type": "execute_result"
    }
   ],
   "source": [
    "var = log[\"Relative\"][0]\n",
    "var = math.floor(var/10)\n",
    "var"
   ]
  },
  {
   "cell_type": "code",
   "execution_count": 6,
   "metadata": {},
   "outputs": [
    {
     "data": {
      "text/plain": [
       "array([        0,        79,       302, ..., 285889783, 308168985,\n",
       "       308194569])"
      ]
     },
     "execution_count": 6,
     "metadata": {},
     "output_type": "execute_result"
    }
   ],
   "source": [
    "array = log[\"Relative\"].to_numpy()\n",
    "array = array[::-1]\n",
    "array"
   ]
  },
  {
   "cell_type": "code",
   "execution_count": 7,
   "metadata": {},
   "outputs": [
    {
     "data": {
      "text/plain": [
       "2165"
      ]
     },
     "execution_count": 7,
     "metadata": {},
     "output_type": "execute_result"
    }
   ],
   "source": [
    "res = next(x for x, val in enumerate(array) if val > var)\n",
    "res = indice - res\n",
    "res"
   ]
  },
  {
   "cell_type": "code",
   "execution_count": 8,
   "metadata": {},
   "outputs": [
    {
     "data": {
      "text/plain": [
       "31965631"
      ]
     },
     "execution_count": 8,
     "metadata": {},
     "output_type": "execute_result"
    }
   ],
   "source": [
    "log[\"Relative\"][res]"
   ]
  },
  {
   "cell_type": "code",
   "execution_count": 9,
   "metadata": {},
   "outputs": [
    {
     "data": {
      "text/plain": [
       "'55a1fdedcad1e291502ce10010dda7e478a1b503'"
      ]
     },
     "execution_count": 9,
     "metadata": {},
     "output_type": "execute_result"
    }
   ],
   "source": [
    "log[\"Hash\"][res]"
   ]
  },
  {
   "cell_type": "code",
   "execution_count": null,
   "metadata": {},
   "outputs": [],
   "source": []
  }
 ],
 "metadata": {
  "kernelspec": {
   "display_name": "Python 3",
   "language": "python",
   "name": "python3"
  },
  "language_info": {
   "codemirror_mode": {
    "name": "ipython",
    "version": 3
   },
   "file_extension": ".py",
   "mimetype": "text/x-python",
   "name": "python",
   "nbconvert_exporter": "python",
   "pygments_lexer": "ipython3",
   "version": "3.8.2"
  }
 },
 "nbformat": 4,
 "nbformat_minor": 4
}
